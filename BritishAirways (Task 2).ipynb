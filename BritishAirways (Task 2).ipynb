{
 "cells": [
  {
   "cell_type": "markdown",
   "metadata": {},
   "source": [
    "# Forage Virtual Internship - British Airways Data Science Project (Task 2)\n",
    "\n",
    "---"
   ]
  },
  {
   "cell_type": "markdown",
   "metadata": {},
   "source": [
    "## Section 1: Exploratory Data Analysis"
   ]
  },
  {
   "cell_type": "markdown",
   "metadata": {},
   "source": [
    "First, we will explore the data in order to better understand what we have and the statistical properties of the dataset."
   ]
  },
  {
   "cell_type": "code",
   "execution_count": 21,
   "metadata": {},
   "outputs": [],
   "source": [
    "#importing necessary libraries\n",
    "import numpy as np\n",
    "import pandas as pd\n",
    "import matplotlib as plt\n",
    "%matplotlib inline\n",
    "\n",
    "import sklearn\n",
    "from sklearn.linear_model import LogisticRegression\n",
    "from sklearn.metrics import f1_score\n",
    "from sklearn.model_selection import RandomizedSearchCV\n",
    "from sklearn.preprocessing import StandardScaler\n",
    "from sklearn.model_selection import train_test_split\n",
    "\n",
    "import warnings\n",
    "warnings.filterwarnings('ignore')"
   ]
  },
  {
   "cell_type": "markdown",
   "metadata": {},
   "source": [
    "The `.head()` method allows us to view the first 5 rows in the dataset, this is useful for visual inspection of our columns"
   ]
  },
  {
   "cell_type": "code",
   "execution_count": 4,
   "metadata": {},
   "outputs": [
    {
     "data": {
      "text/html": [
       "<div>\n",
       "<style scoped>\n",
       "    .dataframe tbody tr th:only-of-type {\n",
       "        vertical-align: middle;\n",
       "    }\n",
       "\n",
       "    .dataframe tbody tr th {\n",
       "        vertical-align: top;\n",
       "    }\n",
       "\n",
       "    .dataframe thead th {\n",
       "        text-align: right;\n",
       "    }\n",
       "</style>\n",
       "<table border=\"1\" class=\"dataframe\">\n",
       "  <thead>\n",
       "    <tr style=\"text-align: right;\">\n",
       "      <th></th>\n",
       "      <th>num_passengers</th>\n",
       "      <th>sales_channel</th>\n",
       "      <th>trip_type</th>\n",
       "      <th>purchase_lead</th>\n",
       "      <th>length_of_stay</th>\n",
       "      <th>flight_hour</th>\n",
       "      <th>flight_day</th>\n",
       "      <th>route</th>\n",
       "      <th>booking_origin</th>\n",
       "      <th>wants_extra_baggage</th>\n",
       "      <th>wants_preferred_seat</th>\n",
       "      <th>wants_in_flight_meals</th>\n",
       "      <th>flight_duration</th>\n",
       "      <th>booking_complete</th>\n",
       "    </tr>\n",
       "  </thead>\n",
       "  <tbody>\n",
       "    <tr>\n",
       "      <th>0</th>\n",
       "      <td>2</td>\n",
       "      <td>Internet</td>\n",
       "      <td>RoundTrip</td>\n",
       "      <td>262</td>\n",
       "      <td>19</td>\n",
       "      <td>7</td>\n",
       "      <td>Sat</td>\n",
       "      <td>AKLDEL</td>\n",
       "      <td>New Zealand</td>\n",
       "      <td>1</td>\n",
       "      <td>0</td>\n",
       "      <td>0</td>\n",
       "      <td>5.52</td>\n",
       "      <td>0</td>\n",
       "    </tr>\n",
       "    <tr>\n",
       "      <th>1</th>\n",
       "      <td>1</td>\n",
       "      <td>Internet</td>\n",
       "      <td>RoundTrip</td>\n",
       "      <td>112</td>\n",
       "      <td>20</td>\n",
       "      <td>3</td>\n",
       "      <td>Sat</td>\n",
       "      <td>AKLDEL</td>\n",
       "      <td>New Zealand</td>\n",
       "      <td>0</td>\n",
       "      <td>0</td>\n",
       "      <td>0</td>\n",
       "      <td>5.52</td>\n",
       "      <td>0</td>\n",
       "    </tr>\n",
       "    <tr>\n",
       "      <th>2</th>\n",
       "      <td>2</td>\n",
       "      <td>Internet</td>\n",
       "      <td>RoundTrip</td>\n",
       "      <td>243</td>\n",
       "      <td>22</td>\n",
       "      <td>17</td>\n",
       "      <td>Wed</td>\n",
       "      <td>AKLDEL</td>\n",
       "      <td>India</td>\n",
       "      <td>1</td>\n",
       "      <td>1</td>\n",
       "      <td>0</td>\n",
       "      <td>5.52</td>\n",
       "      <td>0</td>\n",
       "    </tr>\n",
       "    <tr>\n",
       "      <th>3</th>\n",
       "      <td>1</td>\n",
       "      <td>Internet</td>\n",
       "      <td>RoundTrip</td>\n",
       "      <td>96</td>\n",
       "      <td>31</td>\n",
       "      <td>4</td>\n",
       "      <td>Sat</td>\n",
       "      <td>AKLDEL</td>\n",
       "      <td>New Zealand</td>\n",
       "      <td>0</td>\n",
       "      <td>0</td>\n",
       "      <td>1</td>\n",
       "      <td>5.52</td>\n",
       "      <td>0</td>\n",
       "    </tr>\n",
       "    <tr>\n",
       "      <th>4</th>\n",
       "      <td>2</td>\n",
       "      <td>Internet</td>\n",
       "      <td>RoundTrip</td>\n",
       "      <td>68</td>\n",
       "      <td>22</td>\n",
       "      <td>15</td>\n",
       "      <td>Wed</td>\n",
       "      <td>AKLDEL</td>\n",
       "      <td>India</td>\n",
       "      <td>1</td>\n",
       "      <td>0</td>\n",
       "      <td>1</td>\n",
       "      <td>5.52</td>\n",
       "      <td>0</td>\n",
       "    </tr>\n",
       "  </tbody>\n",
       "</table>\n",
       "</div>"
      ],
      "text/plain": [
       "   num_passengers sales_channel  trip_type  purchase_lead  length_of_stay  \\\n",
       "0               2      Internet  RoundTrip            262              19   \n",
       "1               1      Internet  RoundTrip            112              20   \n",
       "2               2      Internet  RoundTrip            243              22   \n",
       "3               1      Internet  RoundTrip             96              31   \n",
       "4               2      Internet  RoundTrip             68              22   \n",
       "\n",
       "   flight_hour flight_day   route booking_origin  wants_extra_baggage  \\\n",
       "0            7        Sat  AKLDEL    New Zealand                    1   \n",
       "1            3        Sat  AKLDEL    New Zealand                    0   \n",
       "2           17        Wed  AKLDEL          India                    1   \n",
       "3            4        Sat  AKLDEL    New Zealand                    0   \n",
       "4           15        Wed  AKLDEL          India                    1   \n",
       "\n",
       "   wants_preferred_seat  wants_in_flight_meals  flight_duration  \\\n",
       "0                     0                      0             5.52   \n",
       "1                     0                      0             5.52   \n",
       "2                     1                      0             5.52   \n",
       "3                     0                      1             5.52   \n",
       "4                     0                      1             5.52   \n",
       "\n",
       "   booking_complete  \n",
       "0                 0  \n",
       "1                 0  \n",
       "2                 0  \n",
       "3                 0  \n",
       "4                 0  "
      ]
     },
     "execution_count": 4,
     "metadata": {},
     "output_type": "execute_result"
    }
   ],
   "source": [
    "df = pd.read_csv(\"/Users/srinidhi/Desktop/customer_booking.csv\", encoding=\"ISO-8859-1\")\n",
    "df.head()"
   ]
  },
  {
   "cell_type": "markdown",
   "metadata": {},
   "source": [
    "The `.info()` method gives us a data description, telling us the names of the columns, their data types and how many null values we have. Fortunately, we have no null values. It looks like some of these columns should be converted into different data types, e.g. flight_day."
   ]
  },
  {
   "cell_type": "code",
   "execution_count": 5,
   "metadata": {},
   "outputs": [
    {
     "name": "stdout",
     "output_type": "stream",
     "text": [
      "<class 'pandas.core.frame.DataFrame'>\n",
      "RangeIndex: 50000 entries, 0 to 49999\n",
      "Data columns (total 14 columns):\n",
      " #   Column                 Non-Null Count  Dtype  \n",
      "---  ------                 --------------  -----  \n",
      " 0   num_passengers         50000 non-null  int64  \n",
      " 1   sales_channel          50000 non-null  object \n",
      " 2   trip_type              50000 non-null  object \n",
      " 3   purchase_lead          50000 non-null  int64  \n",
      " 4   length_of_stay         50000 non-null  int64  \n",
      " 5   flight_hour            50000 non-null  int64  \n",
      " 6   flight_day             50000 non-null  object \n",
      " 7   route                  50000 non-null  object \n",
      " 8   booking_origin         50000 non-null  object \n",
      " 9   wants_extra_baggage    50000 non-null  int64  \n",
      " 10  wants_preferred_seat   50000 non-null  int64  \n",
      " 11  wants_in_flight_meals  50000 non-null  int64  \n",
      " 12  flight_duration        50000 non-null  float64\n",
      " 13  booking_complete       50000 non-null  int64  \n",
      "dtypes: float64(1), int64(8), object(5)\n",
      "memory usage: 5.3+ MB\n"
     ]
    }
   ],
   "source": [
    "df.info()"
   ]
  },
  {
   "cell_type": "code",
   "execution_count": 6,
   "metadata": {},
   "outputs": [
    {
     "data": {
      "text/plain": [
       "array(['Sat', 'Wed', 'Thu', 'Mon', 'Sun', 'Tue', 'Fri'], dtype=object)"
      ]
     },
     "execution_count": 6,
     "metadata": {},
     "output_type": "execute_result"
    }
   ],
   "source": [
    "df[\"flight_day\"].unique()"
   ]
  },
  {
   "cell_type": "code",
   "execution_count": 7,
   "metadata": {},
   "outputs": [],
   "source": [
    "mapping = {\n",
    "    \"Mon\": 1,\n",
    "    \"Tue\": 2,\n",
    "    \"Wed\": 3,\n",
    "    \"Thu\": 4,\n",
    "    \"Fri\": 5,\n",
    "    \"Sat\": 6,\n",
    "    \"Sun\": 7,\n",
    "}\n",
    "\n",
    "df[\"flight_day\"] = df[\"flight_day\"].map(mapping)"
   ]
  },
  {
   "cell_type": "code",
   "execution_count": 8,
   "metadata": {},
   "outputs": [
    {
     "data": {
      "text/plain": [
       "array([6, 3, 4, 1, 7, 2, 5])"
      ]
     },
     "execution_count": 8,
     "metadata": {},
     "output_type": "execute_result"
    }
   ],
   "source": [
    "df[\"flight_day\"].unique()"
   ]
  },
  {
   "cell_type": "markdown",
   "metadata": {},
   "source": [
    "The `.describe()` method gives us a summary of descriptive statistics over the entire dataset (only works for numeric columns). This gives us a quick overview of a few things such as the mean, min, max and overall distribution of each column."
   ]
  },
  {
   "cell_type": "code",
   "execution_count": 9,
   "metadata": {},
   "outputs": [
    {
     "data": {
      "text/html": [
       "<div>\n",
       "<style scoped>\n",
       "    .dataframe tbody tr th:only-of-type {\n",
       "        vertical-align: middle;\n",
       "    }\n",
       "\n",
       "    .dataframe tbody tr th {\n",
       "        vertical-align: top;\n",
       "    }\n",
       "\n",
       "    .dataframe thead th {\n",
       "        text-align: right;\n",
       "    }\n",
       "</style>\n",
       "<table border=\"1\" class=\"dataframe\">\n",
       "  <thead>\n",
       "    <tr style=\"text-align: right;\">\n",
       "      <th></th>\n",
       "      <th>num_passengers</th>\n",
       "      <th>purchase_lead</th>\n",
       "      <th>length_of_stay</th>\n",
       "      <th>flight_hour</th>\n",
       "      <th>flight_day</th>\n",
       "      <th>wants_extra_baggage</th>\n",
       "      <th>wants_preferred_seat</th>\n",
       "      <th>wants_in_flight_meals</th>\n",
       "      <th>flight_duration</th>\n",
       "      <th>booking_complete</th>\n",
       "    </tr>\n",
       "  </thead>\n",
       "  <tbody>\n",
       "    <tr>\n",
       "      <th>count</th>\n",
       "      <td>50000.000000</td>\n",
       "      <td>50000.000000</td>\n",
       "      <td>50000.00000</td>\n",
       "      <td>50000.00000</td>\n",
       "      <td>50000.000000</td>\n",
       "      <td>50000.000000</td>\n",
       "      <td>50000.000000</td>\n",
       "      <td>50000.000000</td>\n",
       "      <td>50000.000000</td>\n",
       "      <td>50000.000000</td>\n",
       "    </tr>\n",
       "    <tr>\n",
       "      <th>mean</th>\n",
       "      <td>1.591240</td>\n",
       "      <td>84.940480</td>\n",
       "      <td>23.04456</td>\n",
       "      <td>9.06634</td>\n",
       "      <td>3.814420</td>\n",
       "      <td>0.668780</td>\n",
       "      <td>0.296960</td>\n",
       "      <td>0.427140</td>\n",
       "      <td>7.277561</td>\n",
       "      <td>0.149560</td>\n",
       "    </tr>\n",
       "    <tr>\n",
       "      <th>std</th>\n",
       "      <td>1.020165</td>\n",
       "      <td>90.451378</td>\n",
       "      <td>33.88767</td>\n",
       "      <td>5.41266</td>\n",
       "      <td>1.992792</td>\n",
       "      <td>0.470657</td>\n",
       "      <td>0.456923</td>\n",
       "      <td>0.494668</td>\n",
       "      <td>1.496863</td>\n",
       "      <td>0.356643</td>\n",
       "    </tr>\n",
       "    <tr>\n",
       "      <th>min</th>\n",
       "      <td>1.000000</td>\n",
       "      <td>0.000000</td>\n",
       "      <td>0.00000</td>\n",
       "      <td>0.00000</td>\n",
       "      <td>1.000000</td>\n",
       "      <td>0.000000</td>\n",
       "      <td>0.000000</td>\n",
       "      <td>0.000000</td>\n",
       "      <td>4.670000</td>\n",
       "      <td>0.000000</td>\n",
       "    </tr>\n",
       "    <tr>\n",
       "      <th>25%</th>\n",
       "      <td>1.000000</td>\n",
       "      <td>21.000000</td>\n",
       "      <td>5.00000</td>\n",
       "      <td>5.00000</td>\n",
       "      <td>2.000000</td>\n",
       "      <td>0.000000</td>\n",
       "      <td>0.000000</td>\n",
       "      <td>0.000000</td>\n",
       "      <td>5.620000</td>\n",
       "      <td>0.000000</td>\n",
       "    </tr>\n",
       "    <tr>\n",
       "      <th>50%</th>\n",
       "      <td>1.000000</td>\n",
       "      <td>51.000000</td>\n",
       "      <td>17.00000</td>\n",
       "      <td>9.00000</td>\n",
       "      <td>4.000000</td>\n",
       "      <td>1.000000</td>\n",
       "      <td>0.000000</td>\n",
       "      <td>0.000000</td>\n",
       "      <td>7.570000</td>\n",
       "      <td>0.000000</td>\n",
       "    </tr>\n",
       "    <tr>\n",
       "      <th>75%</th>\n",
       "      <td>2.000000</td>\n",
       "      <td>115.000000</td>\n",
       "      <td>28.00000</td>\n",
       "      <td>13.00000</td>\n",
       "      <td>5.000000</td>\n",
       "      <td>1.000000</td>\n",
       "      <td>1.000000</td>\n",
       "      <td>1.000000</td>\n",
       "      <td>8.830000</td>\n",
       "      <td>0.000000</td>\n",
       "    </tr>\n",
       "    <tr>\n",
       "      <th>max</th>\n",
       "      <td>9.000000</td>\n",
       "      <td>867.000000</td>\n",
       "      <td>778.00000</td>\n",
       "      <td>23.00000</td>\n",
       "      <td>7.000000</td>\n",
       "      <td>1.000000</td>\n",
       "      <td>1.000000</td>\n",
       "      <td>1.000000</td>\n",
       "      <td>9.500000</td>\n",
       "      <td>1.000000</td>\n",
       "    </tr>\n",
       "  </tbody>\n",
       "</table>\n",
       "</div>"
      ],
      "text/plain": [
       "       num_passengers  purchase_lead  length_of_stay  flight_hour  \\\n",
       "count    50000.000000   50000.000000     50000.00000  50000.00000   \n",
       "mean         1.591240      84.940480        23.04456      9.06634   \n",
       "std          1.020165      90.451378        33.88767      5.41266   \n",
       "min          1.000000       0.000000         0.00000      0.00000   \n",
       "25%          1.000000      21.000000         5.00000      5.00000   \n",
       "50%          1.000000      51.000000        17.00000      9.00000   \n",
       "75%          2.000000     115.000000        28.00000     13.00000   \n",
       "max          9.000000     867.000000       778.00000     23.00000   \n",
       "\n",
       "         flight_day  wants_extra_baggage  wants_preferred_seat  \\\n",
       "count  50000.000000         50000.000000          50000.000000   \n",
       "mean       3.814420             0.668780              0.296960   \n",
       "std        1.992792             0.470657              0.456923   \n",
       "min        1.000000             0.000000              0.000000   \n",
       "25%        2.000000             0.000000              0.000000   \n",
       "50%        4.000000             1.000000              0.000000   \n",
       "75%        5.000000             1.000000              1.000000   \n",
       "max        7.000000             1.000000              1.000000   \n",
       "\n",
       "       wants_in_flight_meals  flight_duration  booking_complete  \n",
       "count           50000.000000     50000.000000      50000.000000  \n",
       "mean                0.427140         7.277561          0.149560  \n",
       "std                 0.494668         1.496863          0.356643  \n",
       "min                 0.000000         4.670000          0.000000  \n",
       "25%                 0.000000         5.620000          0.000000  \n",
       "50%                 0.000000         7.570000          0.000000  \n",
       "75%                 1.000000         8.830000          0.000000  \n",
       "max                 1.000000         9.500000          1.000000  "
      ]
     },
     "execution_count": 9,
     "metadata": {},
     "output_type": "execute_result"
    }
   ],
   "source": [
    "df.describe()"
   ]
  },
  {
   "cell_type": "code",
   "execution_count": 171,
   "metadata": {},
   "outputs": [
    {
     "data": {
      "text/plain": [
       "(49281, 14)"
      ]
     },
     "execution_count": 171,
     "metadata": {},
     "output_type": "execute_result"
    }
   ],
   "source": [
    "mod_df = df.drop_duplicates()\n",
    "mod_df.shape"
   ]
  },
  {
   "cell_type": "code",
   "execution_count": 55,
   "metadata": {},
   "outputs": [
    {
     "data": {
      "text/plain": [
       "719"
      ]
     },
     "execution_count": 55,
     "metadata": {},
     "output_type": "execute_result"
    }
   ],
   "source": [
    "df.shape[0] - mod_df.shape[0]"
   ]
  },
  {
   "cell_type": "markdown",
   "metadata": {},
   "source": [
    "719 duplicates removed from our dataset"
   ]
  },
  {
   "cell_type": "code",
   "execution_count": 155,
   "metadata": {},
   "outputs": [
    {
     "data": {
      "text/plain": [
       "Series([], dtype: int64)"
      ]
     },
     "execution_count": 155,
     "metadata": {},
     "output_type": "execute_result"
    }
   ],
   "source": [
    "#to check how many variables have the same value for all observations\n",
    "mod_df.nunique()[lambda x: x == 1] "
   ]
  },
  {
   "cell_type": "code",
   "execution_count": 156,
   "metadata": {},
   "outputs": [
    {
     "name": "stdout",
     "output_type": "stream",
     "text": [
      "[]\n",
      "0\n"
     ]
    }
   ],
   "source": [
    "#to check which variable has 1 or more missing value\n",
    "vars_with_na = [var for var in mod_df.columns if mod_df[var].isnull().sum() > 0]\n",
    "print (vars_with_na)\n",
    "print(len(vars_with_na))"
   ]
  },
  {
   "cell_type": "code",
   "execution_count": 157,
   "metadata": {},
   "outputs": [],
   "source": [
    "numerical_columns = mod_df.select_dtypes(include=['number'])\n",
    "corr = numerical_columns.corr().abs()\n",
    "corr_upper = corr.where(np.triu(np.ones(corr.shape),k=1).astype(bool))"
   ]
  },
  {
   "cell_type": "code",
   "execution_count": 158,
   "metadata": {},
   "outputs": [
    {
     "name": "stdout",
     "output_type": "stream",
     "text": [
      "None\n"
     ]
    }
   ],
   "source": [
    "#to find the position indexes of variables with correlation more than 0.7 (variables with correlation above 0.7 are considered to have strong correlation)\n",
    "row_position, col_position = np.where((corr_upper > 0.9))\n",
    "\n",
    "# Check if there are any elements\n",
    "if len(row_position) == 0:\n",
    "    print(\"None\")\n",
    "else:\n",
    "    # Print the positions\n",
    "    for row, col in zip(row_position, col_position):\n",
    "        print(f\"({row}, {col})\")"
   ]
  },
  {
   "cell_type": "code",
   "execution_count": 181,
   "metadata": {},
   "outputs": [
    {
     "data": {
      "image/png": "[encoded data removed]",
      "text/plain": [
       "<Figure size 720x432 with 1 Axes>"
      ]
     },
     "metadata": {
      "needs_background": "light"
     },
     "output_type": "display_data"
    }
   ],
   "source": [
    "from scipy.stats import pointbiserialr\n",
    "\n",
    "# Ensure that numerical_columns contains only numeric columns\n",
    "numerical_columns = numerical_columns.select_dtypes(include='number')\n",
    "\n",
    "# Initialize empty lists to store results\n",
    "correlation_coefficients = []\n",
    "p_values = []\n",
    "\n",
    "# Calculate point-biserial correlation for each numerical variable with 'booking_complete'\n",
    "for col in numerical_columns.columns:\n",
    "    if col != 'booking_complete':  # Exclude 'booking_complete' from calculation\n",
    "        correlation_result = pointbiserialr(numerical_columns[col], numerical_columns['booking_complete'])\n",
    "        correlation_coefficients.append(correlation_result.correlation)\n",
    "        p_values.append(correlation_result.pvalue)\n",
    "\n",
    "# Create a DataFrame to store the correlation coefficients and p-values\n",
    "correlation_df = pd.DataFrame({'Variable': numerical_columns.columns.difference(['booking_complete']),  # Exclude 'booking_complete' from columns\n",
    "                               'Abs_Correlation': np.abs(correlation_coefficients),\n",
    "                               'P-Value': p_values})\n",
    "\n",
    "# Sort the DataFrame by absolute correlation in descending order\n",
    "correlation_df = correlation_df.sort_values(by='Abs_Correlation', ascending=False)\n",
    "\n",
    "# Select only the top 5 correlations\n",
    "top_5_corr = correlation_df.head(5)\n",
    "\n",
    "# Plot the absolute correlation coefficients for the top 5\n",
    "plt.figure(figsize=(10, 6))\n",
    "sns.barplot(x='Abs_Correlation', y='Variable', data=top_5_corr, palette='viridis')\n",
    "plt.title('Top 5 Absolute Point-Biserial Correlations with Binary Variable')\n",
    "plt.xlabel('Absolute Correlation Coefficient')\n",
    "plt.show()"
   ]
  },
  {
   "cell_type": "markdown",
   "metadata": {},
   "source": [
    "## Section 2: Visualization"
   ]
  },
  {
   "cell_type": "code",
   "execution_count": 220,
   "metadata": {},
   "outputs": [
    {
     "data": {
      "image/png": "[encoded data removed]",
      "text/plain": [
       "<Figure size 432x288 with 1 Axes>"
      ]
     },
     "metadata": {},
     "output_type": "display_data"
    }
   ],
   "source": [
    "value_counts = mod_df['booking_complete'].value_counts()\n",
    "\n",
    "# Set Seaborn style and color palette\n",
    "sns.set(style=\"white\")\n",
    "sns.set_palette(\"viridis\")  # You can choose a different palette if needed\n",
    "\n",
    "plt.figure(figsize=(6, 4))\n",
    "ax = sns.barplot(x=value_counts.index, y=value_counts.values)\n",
    "\n",
    "# Add value counts above the bars with horizontal y-axis labels\n",
    "for i, count in enumerate(value_counts):\n",
    "    ax.text(i, count + 0.1, str(count), ha='center', va='bottom', rotation=0) \n",
    "\n",
    "# Set ylabel\n",
    "plt.ylabel('Value Counts')\n",
    "plt.xlabel('')\n",
    "\n",
    "new_labels = ['No Booking', 'Booking Completed']\n",
    "plt.xticks(range(len(new_labels)), new_labels, rotation=0)\n",
    "\n",
    "# Show the plot\n",
    "plt.show()"
   ]
  },
  {
   "cell_type": "markdown",
   "metadata": {},
   "source": [
    "imbalanced y dataset --> so we will use f1"
   ]
  },
  {
   "cell_type": "code",
   "execution_count": 163,
   "metadata": {},
   "outputs": [
    {
     "data": {
      "image/png": "[encoded data removed]",
      "text/plain": [
       "<Figure size 432x288 with 1 Axes>"
      ]
     },
     "metadata": {
      "needs_background": "light"
     },
     "output_type": "display_data"
    }
   ],
   "source": [
    "value_counts = mod_df['sales_channel'].value_counts()\n",
    "\n",
    "# Create a bar plot\n",
    "ax = value_counts.plot(kind='bar')\n",
    "\n",
    "# Add value counts above the bars with horizontal y-axis labels\n",
    "for i, count in enumerate(value_counts):\n",
    "    ax.text(i, count + 0.1, str(count), ha='center', va='bottom', rotation=0)  # Set rotation to 0 for horizontal labels\n",
    "\n",
    "# Set ylabel\n",
    "plt.ylabel('Type of Sales Channel')\n",
    "\n",
    "# Rotate x-axis tick labels to be horizontal\n",
    "plt.xticks(rotation=0)\n",
    "\n",
    "# Show the plot\n",
    "plt.show()"
   ]
  },
  {
   "cell_type": "code",
   "execution_count": 172,
   "metadata": {},
   "outputs": [
    {
     "data": {
      "text/plain": [
       "array([1, 2])"
      ]
     },
     "execution_count": 172,
     "metadata": {},
     "output_type": "execute_result"
    }
   ],
   "source": [
    "# Assuming df is your DataFrame and 'column_to_encode' is the column with 'Internet' and 'Mobile'\n",
    "mod_df['sales_channel'] = mod_df['sales_channel'].map({'Internet': 1, 'Mobile': 2})\n",
    "\n",
    "mod_df[\"sales_channel\"].unique()"
   ]
  },
  {
   "cell_type": "code",
   "execution_count": 166,
   "metadata": {},
   "outputs": [
    {
     "data": {
      "text/html": [
       "<div>\n",
       "<style scoped>\n",
       "    .dataframe tbody tr th:only-of-type {\n",
       "        vertical-align: middle;\n",
       "    }\n",
       "\n",
       "    .dataframe tbody tr th {\n",
       "        vertical-align: top;\n",
       "    }\n",
       "\n",
       "    .dataframe thead th {\n",
       "        text-align: right;\n",
       "    }\n",
       "</style>\n",
       "<table border=\"1\" class=\"dataframe\">\n",
       "  <thead>\n",
       "    <tr style=\"text-align: right;\">\n",
       "      <th></th>\n",
       "      <th>num_passengers</th>\n",
       "      <th>sales_channel</th>\n",
       "      <th>trip_type</th>\n",
       "      <th>purchase_lead</th>\n",
       "      <th>length_of_stay</th>\n",
       "      <th>flight_hour</th>\n",
       "      <th>flight_day</th>\n",
       "      <th>route</th>\n",
       "      <th>booking_origin</th>\n",
       "      <th>wants_extra_baggage</th>\n",
       "      <th>wants_preferred_seat</th>\n",
       "      <th>wants_in_flight_meals</th>\n",
       "      <th>flight_duration</th>\n",
       "      <th>booking_complete</th>\n",
       "    </tr>\n",
       "  </thead>\n",
       "  <tbody>\n",
       "    <tr>\n",
       "      <th>0</th>\n",
       "      <td>2</td>\n",
       "      <td>1</td>\n",
       "      <td>RoundTrip</td>\n",
       "      <td>262</td>\n",
       "      <td>19</td>\n",
       "      <td>7</td>\n",
       "      <td>6</td>\n",
       "      <td>AKLDEL</td>\n",
       "      <td>New Zealand</td>\n",
       "      <td>1</td>\n",
       "      <td>0</td>\n",
       "      <td>0</td>\n",
       "      <td>5.52</td>\n",
       "      <td>0</td>\n",
       "    </tr>\n",
       "    <tr>\n",
       "      <th>1</th>\n",
       "      <td>1</td>\n",
       "      <td>1</td>\n",
       "      <td>RoundTrip</td>\n",
       "      <td>112</td>\n",
       "      <td>20</td>\n",
       "      <td>3</td>\n",
       "      <td>6</td>\n",
       "      <td>AKLDEL</td>\n",
       "      <td>New Zealand</td>\n",
       "      <td>0</td>\n",
       "      <td>0</td>\n",
       "      <td>0</td>\n",
       "      <td>5.52</td>\n",
       "      <td>0</td>\n",
       "    </tr>\n",
       "    <tr>\n",
       "      <th>2</th>\n",
       "      <td>2</td>\n",
       "      <td>1</td>\n",
       "      <td>RoundTrip</td>\n",
       "      <td>243</td>\n",
       "      <td>22</td>\n",
       "      <td>17</td>\n",
       "      <td>3</td>\n",
       "      <td>AKLDEL</td>\n",
       "      <td>India</td>\n",
       "      <td>1</td>\n",
       "      <td>1</td>\n",
       "      <td>0</td>\n",
       "      <td>5.52</td>\n",
       "      <td>0</td>\n",
       "    </tr>\n",
       "    <tr>\n",
       "      <th>3</th>\n",
       "      <td>1</td>\n",
       "      <td>1</td>\n",
       "      <td>RoundTrip</td>\n",
       "      <td>96</td>\n",
       "      <td>31</td>\n",
       "      <td>4</td>\n",
       "      <td>6</td>\n",
       "      <td>AKLDEL</td>\n",
       "      <td>New Zealand</td>\n",
       "      <td>0</td>\n",
       "      <td>0</td>\n",
       "      <td>1</td>\n",
       "      <td>5.52</td>\n",
       "      <td>0</td>\n",
       "    </tr>\n",
       "    <tr>\n",
       "      <th>4</th>\n",
       "      <td>2</td>\n",
       "      <td>1</td>\n",
       "      <td>RoundTrip</td>\n",
       "      <td>68</td>\n",
       "      <td>22</td>\n",
       "      <td>15</td>\n",
       "      <td>3</td>\n",
       "      <td>AKLDEL</td>\n",
       "      <td>India</td>\n",
       "      <td>1</td>\n",
       "      <td>0</td>\n",
       "      <td>1</td>\n",
       "      <td>5.52</td>\n",
       "      <td>0</td>\n",
       "    </tr>\n",
       "  </tbody>\n",
       "</table>\n",
       "</div>"
      ],
      "text/plain": [
       "   num_passengers  sales_channel  trip_type  purchase_lead  length_of_stay  \\\n",
       "0               2              1  RoundTrip            262              19   \n",
       "1               1              1  RoundTrip            112              20   \n",
       "2               2              1  RoundTrip            243              22   \n",
       "3               1              1  RoundTrip             96              31   \n",
       "4               2              1  RoundTrip             68              22   \n",
       "\n",
       "   flight_hour  flight_day   route booking_origin  wants_extra_baggage  \\\n",
       "0            7           6  AKLDEL    New Zealand                    1   \n",
       "1            3           6  AKLDEL    New Zealand                    0   \n",
       "2           17           3  AKLDEL          India                    1   \n",
       "3            4           6  AKLDEL    New Zealand                    0   \n",
       "4           15           3  AKLDEL          India                    1   \n",
       "\n",
       "   wants_preferred_seat  wants_in_flight_meals  flight_duration  \\\n",
       "0                     0                      0             5.52   \n",
       "1                     0                      0             5.52   \n",
       "2                     1                      0             5.52   \n",
       "3                     0                      1             5.52   \n",
       "4                     0                      1             5.52   \n",
       "\n",
       "   booking_complete  \n",
       "0                 0  \n",
       "1                 0  \n",
       "2                 0  \n",
       "3                 0  \n",
       "4                 0  "
      ]
     },
     "execution_count": 166,
     "metadata": {},
     "output_type": "execute_result"
    }
   ],
   "source": [
    "mod_df.head()"
   ]
  },
  {
   "cell_type": "code",
   "execution_count": 173,
   "metadata": {},
   "outputs": [
    {
     "data": {
      "text/plain": [
       "array([1, 3, 2])"
      ]
     },
     "execution_count": 173,
     "metadata": {},
     "output_type": "execute_result"
    }
   ],
   "source": [
    "# Assuming df is your DataFrame and 'column_to_encode' is the column with 'Internet' and 'Mobile'\n",
    "mod_df['trip_type'] = mod_df['trip_type'].map({'RoundTrip': 1, 'OneWay': 2, 'CircleTrip': 3})\n",
    "\n",
    "mod_df[\"trip_type\"].unique()"
   ]
  },
  {
   "cell_type": "code",
   "execution_count": 59,
   "metadata": {},
   "outputs": [
    {
     "data": {
      "image/png": "[encoded data removed]",
      "text/plain": [
       "<Figure size 432x288 with 1 Axes>"
      ]
     },
     "metadata": {
      "needs_background": "light"
     },
     "output_type": "display_data"
    }
   ],
   "source": [
    "value_counts = mod_df['trip_type'].value_counts()\n",
    "\n",
    "# Create a bar plot\n",
    "ax = value_counts.plot(kind='bar')\n",
    "\n",
    "# Add value counts above the bars with horizontal y-axis labels\n",
    "for i, count in enumerate(value_counts):\n",
    "    ax.text(i, count + 0.1, str(count), ha='center', va='bottom', rotation=0)  # Set rotation to 0 for horizontal labels\n",
    "\n",
    "# Set ylabel\n",
    "plt.ylabel('Type of Sales Channel')\n",
    "\n",
    "# Rotate x-axis tick labels to be horizontal\n",
    "plt.xticks(rotation=0)\n",
    "\n",
    "# Show the plot\n",
    "plt.show()"
   ]
  },
  {
   "cell_type": "code",
   "execution_count": 50,
   "metadata": {},
   "outputs": [
    {
     "data": {
      "text/html": [
       "<div>\n",
       "<style scoped>\n",
       "    .dataframe tbody tr th:only-of-type {\n",
       "        vertical-align: middle;\n",
       "    }\n",
       "\n",
       "    .dataframe tbody tr th {\n",
       "        vertical-align: top;\n",
       "    }\n",
       "\n",
       "    .dataframe thead th {\n",
       "        text-align: right;\n",
       "    }\n",
       "</style>\n",
       "<table border=\"1\" class=\"dataframe\">\n",
       "  <thead>\n",
       "    <tr style=\"text-align: right;\">\n",
       "      <th></th>\n",
       "      <th>num_passengers</th>\n",
       "      <th>purchase_lead</th>\n",
       "      <th>length_of_stay</th>\n",
       "      <th>flight_hour</th>\n",
       "      <th>flight_day</th>\n",
       "      <th>route</th>\n",
       "      <th>booking_origin</th>\n",
       "      <th>wants_extra_baggage</th>\n",
       "      <th>wants_preferred_seat</th>\n",
       "      <th>wants_in_flight_meals</th>\n",
       "      <th>flight_duration</th>\n",
       "      <th>booking_complete</th>\n",
       "      <th>saleschannel_encoded</th>\n",
       "      <th>triptype_encoded</th>\n",
       "    </tr>\n",
       "  </thead>\n",
       "  <tbody>\n",
       "    <tr>\n",
       "      <th>0</th>\n",
       "      <td>2</td>\n",
       "      <td>262</td>\n",
       "      <td>19</td>\n",
       "      <td>7</td>\n",
       "      <td>6</td>\n",
       "      <td>AKLDEL</td>\n",
       "      <td>New Zealand</td>\n",
       "      <td>1</td>\n",
       "      <td>0</td>\n",
       "      <td>0</td>\n",
       "      <td>5.52</td>\n",
       "      <td>0</td>\n",
       "      <td>1</td>\n",
       "      <td>1.0</td>\n",
       "    </tr>\n",
       "    <tr>\n",
       "      <th>1</th>\n",
       "      <td>1</td>\n",
       "      <td>112</td>\n",
       "      <td>20</td>\n",
       "      <td>3</td>\n",
       "      <td>6</td>\n",
       "      <td>AKLDEL</td>\n",
       "      <td>New Zealand</td>\n",
       "      <td>0</td>\n",
       "      <td>0</td>\n",
       "      <td>0</td>\n",
       "      <td>5.52</td>\n",
       "      <td>0</td>\n",
       "      <td>1</td>\n",
       "      <td>1.0</td>\n",
       "    </tr>\n",
       "    <tr>\n",
       "      <th>2</th>\n",
       "      <td>2</td>\n",
       "      <td>243</td>\n",
       "      <td>22</td>\n",
       "      <td>17</td>\n",
       "      <td>3</td>\n",
       "      <td>AKLDEL</td>\n",
       "      <td>India</td>\n",
       "      <td>1</td>\n",
       "      <td>1</td>\n",
       "      <td>0</td>\n",
       "      <td>5.52</td>\n",
       "      <td>0</td>\n",
       "      <td>1</td>\n",
       "      <td>1.0</td>\n",
       "    </tr>\n",
       "    <tr>\n",
       "      <th>3</th>\n",
       "      <td>1</td>\n",
       "      <td>96</td>\n",
       "      <td>31</td>\n",
       "      <td>4</td>\n",
       "      <td>6</td>\n",
       "      <td>AKLDEL</td>\n",
       "      <td>New Zealand</td>\n",
       "      <td>0</td>\n",
       "      <td>0</td>\n",
       "      <td>1</td>\n",
       "      <td>5.52</td>\n",
       "      <td>0</td>\n",
       "      <td>1</td>\n",
       "      <td>1.0</td>\n",
       "    </tr>\n",
       "    <tr>\n",
       "      <th>4</th>\n",
       "      <td>2</td>\n",
       "      <td>68</td>\n",
       "      <td>22</td>\n",
       "      <td>15</td>\n",
       "      <td>3</td>\n",
       "      <td>AKLDEL</td>\n",
       "      <td>India</td>\n",
       "      <td>1</td>\n",
       "      <td>0</td>\n",
       "      <td>1</td>\n",
       "      <td>5.52</td>\n",
       "      <td>0</td>\n",
       "      <td>1</td>\n",
       "      <td>1.0</td>\n",
       "    </tr>\n",
       "  </tbody>\n",
       "</table>\n",
       "</div>"
      ],
      "text/plain": [
       "   num_passengers  purchase_lead  length_of_stay  flight_hour  flight_day  \\\n",
       "0               2            262              19            7           6   \n",
       "1               1            112              20            3           6   \n",
       "2               2            243              22           17           3   \n",
       "3               1             96              31            4           6   \n",
       "4               2             68              22           15           3   \n",
       "\n",
       "    route booking_origin  wants_extra_baggage  wants_preferred_seat  \\\n",
       "0  AKLDEL    New Zealand                    1                     0   \n",
       "1  AKLDEL    New Zealand                    0                     0   \n",
       "2  AKLDEL          India                    1                     1   \n",
       "3  AKLDEL    New Zealand                    0                     0   \n",
       "4  AKLDEL          India                    1                     0   \n",
       "\n",
       "   wants_in_flight_meals  flight_duration  booking_complete  \\\n",
       "0                      0             5.52                 0   \n",
       "1                      0             5.52                 0   \n",
       "2                      0             5.52                 0   \n",
       "3                      1             5.52                 0   \n",
       "4                      1             5.52                 0   \n",
       "\n",
       "   saleschannel_encoded  triptype_encoded  \n",
       "0                     1               1.0  \n",
       "1                     1               1.0  \n",
       "2                     1               1.0  \n",
       "3                     1               1.0  \n",
       "4                     1               1.0  "
      ]
     },
     "execution_count": 50,
     "metadata": {},
     "output_type": "execute_result"
    }
   ],
   "source": [
    "mod_df.head()"
   ]
  },
  {
   "cell_type": "code",
   "execution_count": 34,
   "metadata": {},
   "outputs": [
    {
     "data": {
      "text/plain": [
       "799"
      ]
     },
     "execution_count": 34,
     "metadata": {},
     "output_type": "execute_result"
    }
   ],
   "source": [
    "mod_df['route'].nunique()"
   ]
  },
  {
   "cell_type": "code",
   "execution_count": 179,
   "metadata": {},
   "outputs": [
    {
     "data": {
      "text/plain": [
       "route\n",
       "0    49281\n",
       "Name: count, dtype: int64"
      ]
     },
     "execution_count": 179,
     "metadata": {},
     "output_type": "execute_result"
    }
   ],
   "source": [
    "pd.set_option('display.max_rows', None)\n",
    "mod_df['route'].value_counts()"
   ]
  },
  {
   "cell_type": "code",
   "execution_count": 80,
   "metadata": {},
   "outputs": [
    {
     "name": "stdout",
     "output_type": "stream",
     "text": [
      "Number of values appearing only once: 64\n",
      "Values appearing only once: ['COKCTS', 'BBIPER', 'CTUSRG', 'KTMTWU', 'CMBWUH', 'CMBCTS', 'BBIMEL', 'CKGLOP', 'BKIMRU', 'CCUMRU', 'KIXLBU', 'KBRWUH', 'CSXSYD', 'CNXXIY', 'MELNRT', 'BTUWUH', 'MRUTPE', 'TPEURT', 'DACPUS', 'CSXMRU', 'HKTJED', 'HKTIKA', 'URTXIY', 'AORPER', 'CKGHKT', 'BTJJED', 'JEDMFM', 'BTUCKG', 'DELKBR', 'CXRMEL', 'KNOKTM', 'BDOWUH', 'KOSMEL', 'PEKSGN', 'KOSSYD', 'KTMURT', 'HKGJED', 'MELSZX', 'MELVTE', 'MELWUH', 'LBUTPE', 'KBRXIY', 'OOLWUH', 'PERSWA', 'PERVTE', 'CKGSGN', 'KCHMRU', 'JOGKTM', 'ICNJED', 'HDYHGH', 'CNXDEL', 'HDYKTM', 'CKGKNO', 'SGNXIY', 'AORPUS', 'IKAKCH', 'DACMRU', 'KNOWUH', 'IKALOP', 'AKLHGH', 'JEDPDG', 'JEDPEN', 'DACPEK', 'MRUXIY']\n"
     ]
    }
   ],
   "source": [
    "unique_value_counts = mod_df['route'].value_counts()\n",
    "\n",
    "# Filter for values that appear only once\n",
    "values_appearing_once = unique_value_counts[unique_value_counts == 1]\n",
    "\n",
    "# Display the count and the values that appear only once\n",
    "print(\"Number of values appearing only once:\", len(values_appearing_once))\n",
    "print(\"Values appearing only once:\", values_appearing_once.index.tolist())"
   ]
  },
  {
   "cell_type": "code",
   "execution_count": 176,
   "metadata": {},
   "outputs": [
    {
     "data": {
      "text/plain": [
       "array([0])"
      ]
     },
     "execution_count": 176,
     "metadata": {},
     "output_type": "execute_result"
    }
   ],
   "source": [
    "category_values = {'AKLKUL': 1}\n",
    "\n",
    "# Map 'trip_type' to values, setting all other categories to 0\n",
    "mod_df['route'] = mod_df['route'].map(category_values).fillna(0).astype(int)\n",
    "\n"
   ]
  },
  {
   "cell_type": "code",
   "execution_count": 175,
   "metadata": {},
   "outputs": [
    {
     "data": {
      "text/html": [
       "<div>\n",
       "<style scoped>\n",
       "    .dataframe tbody tr th:only-of-type {\n",
       "        vertical-align: middle;\n",
       "    }\n",
       "\n",
       "    .dataframe tbody tr th {\n",
       "        vertical-align: top;\n",
       "    }\n",
       "\n",
       "    .dataframe thead th {\n",
       "        text-align: right;\n",
       "    }\n",
       "</style>\n",
       "<table border=\"1\" class=\"dataframe\">\n",
       "  <thead>\n",
       "    <tr style=\"text-align: right;\">\n",
       "      <th></th>\n",
       "      <th>num_passengers</th>\n",
       "      <th>sales_channel</th>\n",
       "      <th>trip_type</th>\n",
       "      <th>purchase_lead</th>\n",
       "      <th>length_of_stay</th>\n",
       "      <th>flight_hour</th>\n",
       "      <th>flight_day</th>\n",
       "      <th>route</th>\n",
       "      <th>booking_origin</th>\n",
       "      <th>wants_extra_baggage</th>\n",
       "      <th>wants_preferred_seat</th>\n",
       "      <th>wants_in_flight_meals</th>\n",
       "      <th>flight_duration</th>\n",
       "      <th>booking_complete</th>\n",
       "    </tr>\n",
       "  </thead>\n",
       "  <tbody>\n",
       "    <tr>\n",
       "      <th>0</th>\n",
       "      <td>2</td>\n",
       "      <td>1</td>\n",
       "      <td>1</td>\n",
       "      <td>262</td>\n",
       "      <td>19</td>\n",
       "      <td>7</td>\n",
       "      <td>6</td>\n",
       "      <td>0</td>\n",
       "      <td>New Zealand</td>\n",
       "      <td>1</td>\n",
       "      <td>0</td>\n",
       "      <td>0</td>\n",
       "      <td>5.52</td>\n",
       "      <td>0</td>\n",
       "    </tr>\n",
       "    <tr>\n",
       "      <th>1</th>\n",
       "      <td>1</td>\n",
       "      <td>1</td>\n",
       "      <td>1</td>\n",
       "      <td>112</td>\n",
       "      <td>20</td>\n",
       "      <td>3</td>\n",
       "      <td>6</td>\n",
       "      <td>0</td>\n",
       "      <td>New Zealand</td>\n",
       "      <td>0</td>\n",
       "      <td>0</td>\n",
       "      <td>0</td>\n",
       "      <td>5.52</td>\n",
       "      <td>0</td>\n",
       "    </tr>\n",
       "    <tr>\n",
       "      <th>2</th>\n",
       "      <td>2</td>\n",
       "      <td>1</td>\n",
       "      <td>1</td>\n",
       "      <td>243</td>\n",
       "      <td>22</td>\n",
       "      <td>17</td>\n",
       "      <td>3</td>\n",
       "      <td>0</td>\n",
       "      <td>India</td>\n",
       "      <td>1</td>\n",
       "      <td>1</td>\n",
       "      <td>0</td>\n",
       "      <td>5.52</td>\n",
       "      <td>0</td>\n",
       "    </tr>\n",
       "    <tr>\n",
       "      <th>3</th>\n",
       "      <td>1</td>\n",
       "      <td>1</td>\n",
       "      <td>1</td>\n",
       "      <td>96</td>\n",
       "      <td>31</td>\n",
       "      <td>4</td>\n",
       "      <td>6</td>\n",
       "      <td>0</td>\n",
       "      <td>New Zealand</td>\n",
       "      <td>0</td>\n",
       "      <td>0</td>\n",
       "      <td>1</td>\n",
       "      <td>5.52</td>\n",
       "      <td>0</td>\n",
       "    </tr>\n",
       "    <tr>\n",
       "      <th>4</th>\n",
       "      <td>2</td>\n",
       "      <td>1</td>\n",
       "      <td>1</td>\n",
       "      <td>68</td>\n",
       "      <td>22</td>\n",
       "      <td>15</td>\n",
       "      <td>3</td>\n",
       "      <td>0</td>\n",
       "      <td>India</td>\n",
       "      <td>1</td>\n",
       "      <td>0</td>\n",
       "      <td>1</td>\n",
       "      <td>5.52</td>\n",
       "      <td>0</td>\n",
       "    </tr>\n",
       "  </tbody>\n",
       "</table>\n",
       "</div>"
      ],
      "text/plain": [
       "   num_passengers  sales_channel  trip_type  purchase_lead  length_of_stay  \\\n",
       "0               2              1          1            262              19   \n",
       "1               1              1          1            112              20   \n",
       "2               2              1          1            243              22   \n",
       "3               1              1          1             96              31   \n",
       "4               2              1          1             68              22   \n",
       "\n",
       "   flight_hour  flight_day  route booking_origin  wants_extra_baggage  \\\n",
       "0            7           6      0    New Zealand                    1   \n",
       "1            3           6      0    New Zealand                    0   \n",
       "2           17           3      0          India                    1   \n",
       "3            4           6      0    New Zealand                    0   \n",
       "4           15           3      0          India                    1   \n",
       "\n",
       "   wants_preferred_seat  wants_in_flight_meals  flight_duration  \\\n",
       "0                     0                      0             5.52   \n",
       "1                     0                      0             5.52   \n",
       "2                     1                      0             5.52   \n",
       "3                     0                      1             5.52   \n",
       "4                     0                      1             5.52   \n",
       "\n",
       "   booking_complete  \n",
       "0                 0  \n",
       "1                 0  \n",
       "2                 0  \n",
       "3                 0  \n",
       "4                 0  "
      ]
     },
     "execution_count": 175,
     "metadata": {},
     "output_type": "execute_result"
    }
   ],
   "source": [
    "mod_df.head()"
   ]
  },
  {
   "cell_type": "code",
   "execution_count": 33,
   "metadata": {},
   "outputs": [
    {
     "data": {
      "text/plain": [
       "104"
      ]
     },
     "execution_count": 33,
     "metadata": {},
     "output_type": "execute_result"
    }
   ],
   "source": [
    "mod_df['booking_origin'].nunique()"
   ]
  },
  {
   "cell_type": "code",
   "execution_count": 85,
   "metadata": {},
   "outputs": [
    {
     "data": {
      "text/plain": [
       "booking_origin\n",
       "Australia               17691\n",
       "Malaysia                 7055\n",
       "South Korea              4502\n",
       "Japan                    3819\n",
       "China                    3284\n",
       "Indonesia                2317\n",
       "Taiwan                   2042\n",
       "Thailand                 1993\n",
       "India                    1258\n",
       "New Zealand              1060\n",
       "Singapore                1034\n",
       "United States             453\n",
       "Vietnam                   386\n",
       "Macau                     301\n",
       "Hong Kong                 294\n",
       "Philippines               265\n",
       "United Kingdom            173\n",
       "Brunei                    161\n",
       "Cambodia                  131\n",
       "(not set)                  78\n",
       "Sri Lanka                  73\n",
       "Italy                      58\n",
       "France                     58\n",
       "Canada                     57\n",
       "Germany                    54\n",
       "Myanmar (Burma)            51\n",
       "Netherlands                45\n",
       "Mauritius                  43\n",
       "United Arab Emirates       42\n",
       "Nepal                      39\n",
       "Bangladesh                 36\n",
       "Saudi Arabia               35\n",
       "Russia                     31\n",
       "Spain                      27\n",
       "Laos                       25\n",
       "Switzerland                18\n",
       "Chile                      17\n",
       "Qatar                      15\n",
       "Iran                       14\n",
       "Sweden                     12\n",
       "Réunion                    12\n",
       "Mexico                      9\n",
       "Kuwait                      9\n",
       "Oman                        9\n",
       "Brazil                      9\n",
       "Turkey                      9\n",
       "Mongolia                    8\n",
       "Austria                     8\n",
       "Poland                      8\n",
       "Czech Republic              8\n",
       "Finland                     8\n",
       "Ireland                     8\n",
       "Maldives                    8\n",
       "Denmark                     7\n",
       "Belgium                     7\n",
       "Greece                      7\n",
       "Argentina                   6\n",
       "New Caledonia               6\n",
       "Portugal                    6\n",
       "Ukraine                     5\n",
       "Norway                      5\n",
       "Bahrain                     5\n",
       "Peru                        4\n",
       "Colombia                    4\n",
       "Romania                     4\n",
       "South Africa                3\n",
       "Kenya                       3\n",
       "Kazakhstan                  3\n",
       "Hungary                     3\n",
       "Israel                      2\n",
       "Slovenia                    2\n",
       "Solomon Islands             2\n",
       "Guam                        2\n",
       "Timor-Leste                 2\n",
       "Cyprus                      2\n",
       "Croatia                     2\n",
       "Tunisia                     2\n",
       "Vanuatu                     1\n",
       "Czechia                     1\n",
       "Malta                       1\n",
       "Gibraltar                   1\n",
       "Belarus                     1\n",
       "Pakistan                    1\n",
       "Iraq                        1\n",
       "Ghana                       1\n",
       "Seychelles                  1\n",
       "Guatemala                   1\n",
       "Algeria                     1\n",
       "Afghanistan                 1\n",
       "Lebanon                     1\n",
       "Estonia                     1\n",
       "Paraguay                    1\n",
       "Papua New Guinea            1\n",
       "Jordan                      1\n",
       "Egypt                       1\n",
       "Nicaragua                   1\n",
       "Slovakia                    1\n",
       "Norfolk Island              1\n",
       "Bhutan                      1\n",
       "Panama                      1\n",
       "Tonga                       1\n",
       "Tanzania                    1\n",
       "Bulgaria                    1\n",
       "Svalbard & Jan Mayen        1\n",
       "Name: count, dtype: int64"
      ]
     },
     "execution_count": 85,
     "metadata": {},
     "output_type": "execute_result"
    }
   ],
   "source": [
    "mod_df['booking_origin'].value_counts()"
   ]
  },
  {
   "cell_type": "code",
   "execution_count": 86,
   "metadata": {},
   "outputs": [],
   "source": [
    "country_to_continent = {\n",
    "    'Australia': 'Australia',\n",
    "    'Malaysia': 'Asia',\n",
    "    'South Korea': 'Asia',\n",
    "    'Japan': 'Asia',\n",
    "    'China': 'Asia',\n",
    "    'Indonesia': 'Asia',\n",
    "    'Taiwan': 'Asia',\n",
    "    'Thailand': 'Asia',\n",
    "    'India': 'Asia',\n",
    "    'New Zealand': 'Australia',\n",
    "    'Singapore': 'Asia',\n",
    "    'United States': 'North America',\n",
    "    'Vietnam': 'Asia',\n",
    "    'Macau': 'Asia',\n",
    "    'Hong Kong': 'Asia',\n",
    "    'Philippines': 'Asia',\n",
    "    'United Kingdom': 'Europe',\n",
    "    'Brunei': 'Asia',\n",
    "    'Cambodia': 'Asia',\n",
    "    'Sri Lanka': 'Asia',\n",
    "    'Italy': 'Europe',\n",
    "    'France': 'Europe',\n",
    "    'Canada': 'North America',\n",
    "    'Germany': 'Europe',\n",
    "    'Myanmar (Burma)': 'Asia',\n",
    "    'Netherlands': 'Europe',\n",
    "    'Mauritius': 'Africa',\n",
    "    'United Arab Emirates': 'Asia',\n",
    "    'Nepal': 'Asia',\n",
    "    'Bangladesh': 'Asia',\n",
    "    'Saudi Arabia': 'Asia',\n",
    "    'Russia': 'Europe',\n",
    "    'Spain': 'Europe',\n",
    "    'Laos': 'Asia',\n",
    "    'Switzerland': 'Europe',\n",
    "    'Chile': 'South America',\n",
    "    'Qatar': 'Asia',\n",
    "    'Iran': 'Asia',\n",
    "    'Sweden': 'Europe',\n",
    "    'Réunion': 'Africa',\n",
    "    'Mexico': 'North America',\n",
    "    'Kuwait': 'Asia',\n",
    "    'Oman': 'Asia',\n",
    "    'Brazil': 'South America',\n",
    "    'Turkey': 'Asia',\n",
    "    'Mongolia': 'Asia',\n",
    "    'Austria': 'Europe',\n",
    "    'Poland': 'Europe',\n",
    "    'Czech Republic': 'Europe',\n",
    "    'Finland': 'Europe',\n",
    "    'Ireland': 'Europe',\n",
    "    'Maldives': 'Asia',\n",
    "    'Denmark': 'Europe',\n",
    "    'Belgium': 'Europe',\n",
    "    'Greece': 'Europe',\n",
    "    'Argentina': 'South America',\n",
    "    'New Caledonia': 'Australia',\n",
    "    'Portugal': 'Europe',\n",
    "    'Ukraine': 'Europe',\n",
    "    'Norway': 'Europe',\n",
    "    'Bahrain': 'Asia',\n",
    "    'Peru': 'South America',\n",
    "    'Colombia': 'South America',\n",
    "    'Romania': 'Europe',\n",
    "    'South Africa': 'Africa',\n",
    "    'Kenya': 'Africa',\n",
    "    'Kazakhstan': 'Asia',\n",
    "    'Hungary': 'Europe',\n",
    "    'Israel': 'Asia',\n",
    "    'Slovenia': 'Europe',\n",
    "    'Solomon Islands': 'Australia',\n",
    "    'Guam': 'Australia',\n",
    "    'Timor-Leste': 'Asia',\n",
    "    'Cyprus': 'Asia',\n",
    "    'Croatia': 'Europe',\n",
    "    'Tunisia': 'Africa',\n",
    "    'Vanuatu': 'Australia',\n",
    "    'Czechia': 'Europe',\n",
    "    'Malta': 'Europe',\n",
    "    'Gibraltar': 'Europe',\n",
    "    'Belarus': 'Europe',\n",
    "    'Pakistan': 'Asia',\n",
    "    'Iraq': 'Asia',\n",
    "    'Ghana': 'Africa',\n",
    "    'Seychelles': 'Africa',\n",
    "    'Guatemala': 'North America',\n",
    "    'Algeria': 'Africa',\n",
    "    'Afghanistan': 'Asia',\n",
    "    'Lebanon': 'Asia',\n",
    "    'Estonia': 'Europe',\n",
    "    'Paraguay': 'South America',\n",
    "    'Papua New Guinea': 'Australia',\n",
    "    'Jordan': 'Asia',\n",
    "    'Egypt': 'Africa',\n",
    "    'Nicaragua': 'North America',\n",
    "    'Slovakia': 'Europe',\n",
    "    'Norfolk Island': 'Australia',\n",
    "    'Bhutan': 'Asia',\n",
    "    'Panama': 'North America',\n",
    "    'Tonga': 'Australia',\n",
    "    'Tanzania': 'Africa',\n",
    "    'Bulgaria': 'Europe',\n",
    "    'Svalbard & Jan Mayen': 'Europe',\n",
    "}"
   ]
  },
  {
   "cell_type": "code",
   "execution_count": 97,
   "metadata": {},
   "outputs": [
    {
     "data": {
      "text/html": [
       "<div>\n",
       "<style scoped>\n",
       "    .dataframe tbody tr th:only-of-type {\n",
       "        vertical-align: middle;\n",
       "    }\n",
       "\n",
       "    .dataframe tbody tr th {\n",
       "        vertical-align: top;\n",
       "    }\n",
       "\n",
       "    .dataframe thead th {\n",
       "        text-align: right;\n",
       "    }\n",
       "</style>\n",
       "<table border=\"1\" class=\"dataframe\">\n",
       "  <thead>\n",
       "    <tr style=\"text-align: right;\">\n",
       "      <th></th>\n",
       "      <th>num_passengers</th>\n",
       "      <th>purchase_lead</th>\n",
       "      <th>length_of_stay</th>\n",
       "      <th>flight_hour</th>\n",
       "      <th>flight_day</th>\n",
       "      <th>wants_extra_baggage</th>\n",
       "      <th>wants_preferred_seat</th>\n",
       "      <th>wants_in_flight_meals</th>\n",
       "      <th>flight_duration</th>\n",
       "      <th>booking_complete</th>\n",
       "      <th>saleschannel_encoded</th>\n",
       "      <th>triptype_encoded</th>\n",
       "      <th>route_encoded</th>\n",
       "      <th>bookingorigin_encoded</th>\n",
       "    </tr>\n",
       "  </thead>\n",
       "  <tbody>\n",
       "    <tr>\n",
       "      <th>0</th>\n",
       "      <td>2</td>\n",
       "      <td>262</td>\n",
       "      <td>19</td>\n",
       "      <td>7</td>\n",
       "      <td>6</td>\n",
       "      <td>1</td>\n",
       "      <td>0</td>\n",
       "      <td>0</td>\n",
       "      <td>5.52</td>\n",
       "      <td>0</td>\n",
       "      <td>1</td>\n",
       "      <td>1</td>\n",
       "      <td>0</td>\n",
       "      <td>1</td>\n",
       "    </tr>\n",
       "    <tr>\n",
       "      <th>1</th>\n",
       "      <td>1</td>\n",
       "      <td>112</td>\n",
       "      <td>20</td>\n",
       "      <td>3</td>\n",
       "      <td>6</td>\n",
       "      <td>0</td>\n",
       "      <td>0</td>\n",
       "      <td>0</td>\n",
       "      <td>5.52</td>\n",
       "      <td>0</td>\n",
       "      <td>1</td>\n",
       "      <td>1</td>\n",
       "      <td>0</td>\n",
       "      <td>1</td>\n",
       "    </tr>\n",
       "    <tr>\n",
       "      <th>2</th>\n",
       "      <td>2</td>\n",
       "      <td>243</td>\n",
       "      <td>22</td>\n",
       "      <td>17</td>\n",
       "      <td>3</td>\n",
       "      <td>1</td>\n",
       "      <td>1</td>\n",
       "      <td>0</td>\n",
       "      <td>5.52</td>\n",
       "      <td>0</td>\n",
       "      <td>1</td>\n",
       "      <td>1</td>\n",
       "      <td>0</td>\n",
       "      <td>2</td>\n",
       "    </tr>\n",
       "    <tr>\n",
       "      <th>3</th>\n",
       "      <td>1</td>\n",
       "      <td>96</td>\n",
       "      <td>31</td>\n",
       "      <td>4</td>\n",
       "      <td>6</td>\n",
       "      <td>0</td>\n",
       "      <td>0</td>\n",
       "      <td>1</td>\n",
       "      <td>5.52</td>\n",
       "      <td>0</td>\n",
       "      <td>1</td>\n",
       "      <td>1</td>\n",
       "      <td>0</td>\n",
       "      <td>1</td>\n",
       "    </tr>\n",
       "    <tr>\n",
       "      <th>4</th>\n",
       "      <td>2</td>\n",
       "      <td>68</td>\n",
       "      <td>22</td>\n",
       "      <td>15</td>\n",
       "      <td>3</td>\n",
       "      <td>1</td>\n",
       "      <td>0</td>\n",
       "      <td>1</td>\n",
       "      <td>5.52</td>\n",
       "      <td>0</td>\n",
       "      <td>1</td>\n",
       "      <td>1</td>\n",
       "      <td>0</td>\n",
       "      <td>2</td>\n",
       "    </tr>\n",
       "  </tbody>\n",
       "</table>\n",
       "</div>"
      ],
      "text/plain": [
       "   num_passengers  purchase_lead  length_of_stay  flight_hour  flight_day  \\\n",
       "0               2            262              19            7           6   \n",
       "1               1            112              20            3           6   \n",
       "2               2            243              22           17           3   \n",
       "3               1             96              31            4           6   \n",
       "4               2             68              22           15           3   \n",
       "\n",
       "   wants_extra_baggage  wants_preferred_seat  wants_in_flight_meals  \\\n",
       "0                    1                     0                      0   \n",
       "1                    0                     0                      0   \n",
       "2                    1                     1                      0   \n",
       "3                    0                     0                      1   \n",
       "4                    1                     0                      1   \n",
       "\n",
       "   flight_duration  booking_complete  saleschannel_encoded  triptype_encoded  \\\n",
       "0             5.52                 0                     1                 1   \n",
       "1             5.52                 0                     1                 1   \n",
       "2             5.52                 0                     1                 1   \n",
       "3             5.52                 0                     1                 1   \n",
       "4             5.52                 0                     1                 1   \n",
       "\n",
       "   route_encoded  bookingorigin_encoded  \n",
       "0              0                      1  \n",
       "1              0                      1  \n",
       "2              0                      2  \n",
       "3              0                      1  \n",
       "4              0                      2  "
      ]
     },
     "execution_count": 97,
     "metadata": {},
     "output_type": "execute_result"
    }
   ],
   "source": [
    "mod_df['bookingorigin_encoded'] = mod_df['booking_origin'].map(country_to_continent)\n",
    "\n",
    "category_values = {'Australia': 1, 'Asia': 2, 'North America': 3, 'South America': 4, 'Europe': 5, 'Africa': 6, 'Antartica': 7}\n",
    "\n",
    "# Map 'trip_type' to values, setting all other categories to 0\n",
    "mod_df['bookingorigin_encoded'] = mod_df['bookingorigin_encoded'].map(category_values).fillna(0).astype(int)\n",
    "\n",
    "# Optionally, drop the original 'country' column\n",
    "mod_df = mod_df.drop('booking_origin', axis=1)\n",
    "\n",
    "mod_df.head()"
   ]
  },
  {
   "cell_type": "code",
   "execution_count": 98,
   "metadata": {},
   "outputs": [],
   "source": [
    "y = mod_df['booking_complete']\n",
    "x = mod_df.drop('booking_complete', axis=1)"
   ]
  },
  {
   "cell_type": "code",
   "execution_count": 102,
   "metadata": {},
   "outputs": [
    {
     "data": {
      "text/html": [
       "<div>\n",
       "<style scoped>\n",
       "    .dataframe tbody tr th:only-of-type {\n",
       "        vertical-align: middle;\n",
       "    }\n",
       "\n",
       "    .dataframe tbody tr th {\n",
       "        vertical-align: top;\n",
       "    }\n",
       "\n",
       "    .dataframe thead th {\n",
       "        text-align: right;\n",
       "    }\n",
       "</style>\n",
       "<table border=\"1\" class=\"dataframe\">\n",
       "  <thead>\n",
       "    <tr style=\"text-align: right;\">\n",
       "      <th></th>\n",
       "      <th>num_passengers</th>\n",
       "      <th>purchase_lead</th>\n",
       "      <th>length_of_stay</th>\n",
       "      <th>flight_hour</th>\n",
       "      <th>flight_day</th>\n",
       "      <th>wants_extra_baggage</th>\n",
       "      <th>wants_preferred_seat</th>\n",
       "      <th>wants_in_flight_meals</th>\n",
       "      <th>flight_duration</th>\n",
       "      <th>booking_complete</th>\n",
       "      <th>saleschannel_encoded</th>\n",
       "      <th>triptype_encoded</th>\n",
       "      <th>route_encoded</th>\n",
       "      <th>bookingorigin_encoded</th>\n",
       "    </tr>\n",
       "  </thead>\n",
       "  <tbody>\n",
       "    <tr>\n",
       "      <th>0</th>\n",
       "      <td>2</td>\n",
       "      <td>262</td>\n",
       "      <td>19</td>\n",
       "      <td>7</td>\n",
       "      <td>6</td>\n",
       "      <td>1</td>\n",
       "      <td>0</td>\n",
       "      <td>0</td>\n",
       "      <td>5.52</td>\n",
       "      <td>0</td>\n",
       "      <td>1</td>\n",
       "      <td>1</td>\n",
       "      <td>0</td>\n",
       "      <td>1</td>\n",
       "    </tr>\n",
       "    <tr>\n",
       "      <th>1</th>\n",
       "      <td>1</td>\n",
       "      <td>112</td>\n",
       "      <td>20</td>\n",
       "      <td>3</td>\n",
       "      <td>6</td>\n",
       "      <td>0</td>\n",
       "      <td>0</td>\n",
       "      <td>0</td>\n",
       "      <td>5.52</td>\n",
       "      <td>0</td>\n",
       "      <td>1</td>\n",
       "      <td>1</td>\n",
       "      <td>0</td>\n",
       "      <td>1</td>\n",
       "    </tr>\n",
       "    <tr>\n",
       "      <th>2</th>\n",
       "      <td>2</td>\n",
       "      <td>243</td>\n",
       "      <td>22</td>\n",
       "      <td>17</td>\n",
       "      <td>3</td>\n",
       "      <td>1</td>\n",
       "      <td>1</td>\n",
       "      <td>0</td>\n",
       "      <td>5.52</td>\n",
       "      <td>0</td>\n",
       "      <td>1</td>\n",
       "      <td>1</td>\n",
       "      <td>0</td>\n",
       "      <td>2</td>\n",
       "    </tr>\n",
       "    <tr>\n",
       "      <th>3</th>\n",
       "      <td>1</td>\n",
       "      <td>96</td>\n",
       "      <td>31</td>\n",
       "      <td>4</td>\n",
       "      <td>6</td>\n",
       "      <td>0</td>\n",
       "      <td>0</td>\n",
       "      <td>1</td>\n",
       "      <td>5.52</td>\n",
       "      <td>0</td>\n",
       "      <td>1</td>\n",
       "      <td>1</td>\n",
       "      <td>0</td>\n",
       "      <td>1</td>\n",
       "    </tr>\n",
       "    <tr>\n",
       "      <th>4</th>\n",
       "      <td>2</td>\n",
       "      <td>68</td>\n",
       "      <td>22</td>\n",
       "      <td>15</td>\n",
       "      <td>3</td>\n",
       "      <td>1</td>\n",
       "      <td>0</td>\n",
       "      <td>1</td>\n",
       "      <td>5.52</td>\n",
       "      <td>0</td>\n",
       "      <td>1</td>\n",
       "      <td>1</td>\n",
       "      <td>0</td>\n",
       "      <td>2</td>\n",
       "    </tr>\n",
       "  </tbody>\n",
       "</table>\n",
       "</div>"
      ],
      "text/plain": [
       "   num_passengers  purchase_lead  length_of_stay  flight_hour  flight_day  \\\n",
       "0               2            262              19            7           6   \n",
       "1               1            112              20            3           6   \n",
       "2               2            243              22           17           3   \n",
       "3               1             96              31            4           6   \n",
       "4               2             68              22           15           3   \n",
       "\n",
       "   wants_extra_baggage  wants_preferred_seat  wants_in_flight_meals  \\\n",
       "0                    1                     0                      0   \n",
       "1                    0                     0                      0   \n",
       "2                    1                     1                      0   \n",
       "3                    0                     0                      1   \n",
       "4                    1                     0                      1   \n",
       "\n",
       "   flight_duration  booking_complete  saleschannel_encoded  triptype_encoded  \\\n",
       "0             5.52                 0                     1                 1   \n",
       "1             5.52                 0                     1                 1   \n",
       "2             5.52                 0                     1                 1   \n",
       "3             5.52                 0                     1                 1   \n",
       "4             5.52                 0                     1                 1   \n",
       "\n",
       "   route_encoded  bookingorigin_encoded  \n",
       "0              0                      1  \n",
       "1              0                      1  \n",
       "2              0                      2  \n",
       "3              0                      1  \n",
       "4              0                      2  "
      ]
     },
     "execution_count": 102,
     "metadata": {},
     "output_type": "execute_result"
    }
   ],
   "source": [
    "mod_df.head()"
   ]
  },
  {
   "cell_type": "code",
   "execution_count": 99,
   "metadata": {},
   "outputs": [],
   "source": [
    "#split the data into training and testing sets\n",
    "X_train, X_valid, Y_train, Y_valid = train_test_split(x, y, test_size=0.2)\n",
    "\n",
    "#standardize the data\n",
    "scaler = StandardScaler()\n",
    "X_train = scaler.fit_transform(X_train)\n",
    "X_valid = scaler.transform(X_valid)"
   ]
  },
  {
   "cell_type": "markdown",
   "metadata": {},
   "source": [
    "Section 3: Model Comparisons"
   ]
  },
  {
   "cell_type": "markdown",
   "metadata": {},
   "source": [
    "Using accuracy"
   ]
  },
  {
   "cell_type": "code",
   "execution_count": 208,
   "metadata": {},
   "outputs": [
    {
     "name": "stdout",
     "output_type": "stream",
     "text": [
      "Accuracy for Logistic Regression Model: 0.8432051839684107\n",
      "\n",
      "Accuracy for Decision Tree Model: 0.5887016334393514\n",
      "\n",
      "Accuracy for Random Forest Model: 0.687888604940256\n",
      "\n",
      "Accuracy for XgBoost Model: 0.6061719582727813\n",
      "\n",
      "Accuracy for Extra Trees Model: 0.8057864722018369\n",
      "\n",
      "Accuracy for GradBoost Model: 0.6815980143486928\n",
      "\n"
     ]
    }
   ],
   "source": [
    "from sklearn.model_selection import cross_val_score\n",
    "from sklearn.metrics import accuracy_score\n",
    "from sklearn.linear_model import LogisticRegression\n",
    "from sklearn.tree import DecisionTreeClassifier\n",
    "from sklearn.ensemble import RandomForestClassifier, GradientBoostingClassifier, ExtraTreesClassifier\n",
    "import xgboost as xgb\n",
    "from catboost import CatBoostRegressor\n",
    "\n",
    "# Classifier models\n",
    "logistic_model = LogisticRegression(random_state=100)\n",
    "dectree_model = DecisionTreeClassifier(random_state=100)\n",
    "randforest_model = RandomForestClassifier(random_state=100)\n",
    "xgboost_model = xgb.XGBClassifier(random_state=100)\n",
    "extratrees_model = ExtraTreesClassifier(random_state=100)\n",
    "gradboost_model = GradientBoostingClassifier(random_state=100)\n",
    "catboost_model = CatBoostRegressor(random_seed=100, verbose=False)\n",
    "\n",
    "\n",
    "# Accuracy scores\n",
    "accuracy_logistic = cross_val_score(logistic_model, x, y, cv=5, scoring='accuracy')\n",
    "print(\"Accuracy for Logistic Regression Model:\", accuracy_logistic.mean())\n",
    "print()\n",
    "\n",
    "accuracy_dectree = cross_val_score(dectree_model, x, y, cv=5, scoring='accuracy')\n",
    "print(\"Accuracy for Decision Tree Model:\", accuracy_dectree.mean())\n",
    "print()\n",
    "\n",
    "accuracy_randforest = cross_val_score(randforest_model,x, y, cv=5, scoring='accuracy')\n",
    "print(\"Accuracy for Random Forest Model:\", accuracy_randforest.mean())\n",
    "print()\n",
    "\n",
    "accuracy_xgboost = cross_val_score(xgboost_model, x, y, cv=5, scoring='accuracy')\n",
    "print(\"Accuracy for XgBoost Model:\", accuracy_xgboost.mean())\n",
    "print()\n",
    "\n",
    "accuracy_extratrees = cross_val_score(extratrees_model , x, y, cv=5, scoring='accuracy')\n",
    "print(\"Accuracy for Extra Trees Model:\", accuracy_extratrees.mean())\n",
    "print()\n",
    "\n",
    "accuracy_gradboost = cross_val_score(gradboost_model , x, y, cv=5, scoring='accuracy')\n",
    "print(\"Accuracy for GradBoost Model:\", accuracy_gradboost.mean())\n",
    "print()"
   ]
  },
  {
   "cell_type": "markdown",
   "metadata": {},
   "source": [
    "Using Balanced Accuracy"
   ]
  },
  {
   "cell_type": "code",
   "execution_count": 151,
   "metadata": {},
   "outputs": [
    {
     "name": "stdout",
     "output_type": "stream",
     "text": [
      "Accuracy for Logistic Regression Model: 0.5024532699915742\n",
      "\n",
      "Accuracy for Decision Tree Model: 0.44490553259806376\n",
      "\n",
      "Accuracy for Random Forest Model: 0.45114989609683975\n",
      "\n",
      "Accuracy for XgBoost Model: 0.4652230598979902\n",
      "\n",
      "Accuracy for Extra Trees Model: 0.5051245877859138\n",
      "\n",
      "Accuracy for GradBoost Model: 0.4594958572794073\n",
      "\n"
     ]
    }
   ],
   "source": [
    "from sklearn.metrics import make_scorer, balanced_accuracy_score\n",
    "\n",
    "# Accuracy scores\n",
    "accuracy_logistic = cross_val_score(logistic_model, x, y, cv=5, scoring=make_scorer(balanced_accuracy_score))\n",
    "print(\"Accuracy for Logistic Regression Model:\", accuracy_logistic.mean())\n",
    "print()\n",
    "\n",
    "accuracy_dectree = cross_val_score(dectree_model, x, y, cv=5, scoring=make_scorer(balanced_accuracy_score))\n",
    "print(\"Accuracy for Decision Tree Model:\", accuracy_dectree.mean())\n",
    "print()\n",
    "\n",
    "accuracy_randforest = cross_val_score(randforest_model,x, y, cv=5, scoring=make_scorer(balanced_accuracy_score))\n",
    "print(\"Accuracy for Random Forest Model:\", accuracy_randforest.mean())\n",
    "print()\n",
    "\n",
    "accuracy_xgboost = cross_val_score(xgboost_model, x, y, cv=5, scoring=make_scorer(balanced_accuracy_score))\n",
    "print(\"Accuracy for XgBoost Model:\", accuracy_xgboost.mean())\n",
    "print()\n",
    "\n",
    "accuracy_extratrees = cross_val_score(extratrees_model , x, y, cv=5, scoring=make_scorer(balanced_accuracy_score))\n",
    "print(\"Accuracy for Extra Trees Model:\", accuracy_extratrees.mean())\n",
    "print()\n",
    "\n",
    "accuracy_gradboost = cross_val_score(gradboost_model , x, y, cv=5, scoring=make_scorer(balanced_accuracy_score))\n",
    "print(\"Accuracy for GradBoost Model:\", accuracy_gradboost.mean())\n",
    "print()"
   ]
  },
  {
   "cell_type": "markdown",
   "metadata": {},
   "source": [
    "f1 score"
   ]
  },
  {
   "cell_type": "code",
   "execution_count": 152,
   "metadata": {},
   "outputs": [
    {
     "name": "stdout",
     "output_type": "stream",
     "text": [
      "Accuracy for Logistic Regression Model: 0.02799625337159282\n",
      "\n",
      "Accuracy for Decision Tree Model: 0.154404463020298\n",
      "\n",
      "Accuracy for Random Forest Model: 0.06365094402308562\n",
      "\n",
      "Accuracy for XgBoost Model: 0.13247447297173437\n",
      "\n",
      "Accuracy for Extra Trees Model: 0.10466102377568194\n",
      "\n",
      "Accuracy for GradBoost Model: 0.0677399293310138\n",
      "\n"
     ]
    }
   ],
   "source": [
    "from sklearn.metrics import make_scorer, balanced_accuracy_score\n",
    "\n",
    "# Accuracy scores\n",
    "accuracy_logistic = cross_val_score(logistic_model, x, y, cv=5, scoring='f1')\n",
    "print(\"Accuracy for Logistic Regression Model:\", accuracy_logistic.mean())\n",
    "print()\n",
    "\n",
    "accuracy_dectree = cross_val_score(dectree_model, x, y, cv=5, scoring='f1')\n",
    "print(\"Accuracy for Decision Tree Model:\", accuracy_dectree.mean())\n",
    "print()\n",
    "\n",
    "accuracy_randforest = cross_val_score(randforest_model,x, y, cv=5, scoring='f1')\n",
    "print(\"Accuracy for Random Forest Model:\", accuracy_randforest.mean())\n",
    "print()\n",
    "\n",
    "accuracy_xgboost = cross_val_score(xgboost_model, x, y, cv=5, scoring='f1')\n",
    "print(\"Accuracy for XgBoost Model:\", accuracy_xgboost.mean())\n",
    "print()\n",
    "\n",
    "accuracy_extratrees = cross_val_score(extratrees_model , x, y, cv=5, scoring='f1')\n",
    "print(\"Accuracy for Extra Trees Model:\", accuracy_extratrees.mean())\n",
    "print()\n",
    "\n",
    "accuracy_gradboost = cross_val_score(gradboost_model , x, y, cv=5, scoring='f1')\n",
    "print(\"Accuracy for GradBoost Model:\", accuracy_gradboost.mean())\n",
    "print()"
   ]
  },
  {
   "cell_type": "code",
   "execution_count": 153,
   "metadata": {},
   "outputs": [
    {
     "name": "stdout",
     "output_type": "stream",
     "text": [
      "Accuracy for Logistic Regression Model: 0.5024532699915742\n",
      "\n",
      "Accuracy for Decision Tree Model: 0.44490553259806376\n",
      "\n",
      "Accuracy for Random Forest Model: 0.45114989609683975\n",
      "\n",
      "Accuracy for XgBoost Model: 0.4652230598979902\n",
      "\n",
      "Accuracy for Extra Trees Model: 0.5051245877859138\n",
      "\n",
      "Accuracy for GradBoost Model: 0.4594958572794073\n",
      "\n"
     ]
    }
   ],
   "source": [
    "\n",
    "from sklearn.metrics import make_scorer, roc_auc_score\n",
    "\n",
    "# Accuracy scores\n",
    "accuracy_logistic = cross_val_score(logistic_model, x, y, cv=5, scoring=make_scorer(roc_auc_score))\n",
    "print(\"Accuracy for Logistic Regression Model:\", accuracy_logistic.mean())\n",
    "print()\n",
    "\n",
    "accuracy_dectree = cross_val_score(dectree_model, x, y, cv=5, scoring=make_scorer(roc_auc_score))\n",
    "print(\"Accuracy for Decision Tree Model:\", accuracy_dectree.mean())\n",
    "print()\n",
    "\n",
    "accuracy_randforest = cross_val_score(randforest_model,x, y, cv=5, scoring=make_scorer(roc_auc_score))\n",
    "print(\"Accuracy for Random Forest Model:\", accuracy_randforest.mean())\n",
    "print()\n",
    "\n",
    "accuracy_xgboost = cross_val_score(xgboost_model, x, y, cv=5, scoring=make_scorer(roc_auc_score))\n",
    "print(\"Accuracy for XgBoost Model:\", accuracy_xgboost.mean())\n",
    "print()\n",
    "\n",
    "accuracy_extratrees = cross_val_score(extratrees_model , x, y, cv=5, scoring=make_scorer(roc_auc_score))\n",
    "print(\"Accuracy for Extra Trees Model:\", accuracy_extratrees.mean())\n",
    "print()\n",
    "\n",
    "accuracy_gradboost = cross_val_score(gradboost_model , x, y, cv=5, scoring=make_scorer(roc_auc_score))\n",
    "print(\"Accuracy for GradBoost Model:\", accuracy_gradboost.mean())\n",
    "print()"
   ]
  },
  {
   "cell_type": "markdown",
   "metadata": {},
   "source": [
    "Logistic - No penalty"
   ]
  },
  {
   "cell_type": "code",
   "execution_count": 123,
   "metadata": {},
   "outputs": [
    {
     "name": "stdout",
     "output_type": "stream",
     "text": [
      "Best C for Ridge Regression: 0.1\n",
      "Best Solver for Ridge Regression: newton-cg\n",
      "Best Accuracy on Validation Set for Ridge Regression: 0.8451861621182916\n"
     ]
    }
   ],
   "source": [
    "from sklearn.model_selection import GridSearchCV\n",
    "from sklearn.linear_model import LogisticRegression\n",
    "from sklearn.metrics import accuracy_score\n",
    "\n",
    "# Define the hyperparameter grid for C values\n",
    "param_grid = {\n",
    "    'C': [0.1, 0.3, 0.5, 0.7, 1, 3, 5, 7, 10],\n",
    "    'solver': ['liblinear', 'newton-cg', 'lbfgs', 'sag', 'saga'],\n",
    "}\n",
    "\n",
    "# Create a Logistic Regression model\n",
    "model = LogisticRegression(penalty='none', random_state=42)\n",
    "\n",
    "# Create a GridSearchCV object\n",
    "grid_search = GridSearchCV(model, param_grid=param_grid, cv=5, scoring='accuracy')\n",
    "\n",
    "# Fit the GridSearchCV object to your training data\n",
    "grid_search.fit(X_train, Y_train)\n",
    "\n",
    "# Get the best hyperparameters\n",
    "best_params = grid_search.best_params_\n",
    "\n",
    "# Get the best estimator (model)\n",
    "ridge_model = grid_search.best_estimator_\n",
    "\n",
    "# Make predictions on the validation set using the best model\n",
    "y_pred = ridge_model.predict(X_valid)\n",
    "\n",
    "# Compute accuracy on the validation set\n",
    "accuracy_ridge = accuracy_score(Y_valid, y_pred)\n",
    "\n",
    "# Print the best hyperparameters and scores\n",
    "print(\"Best C for Ridge Regression:\", best_params['C'])\n",
    "print(\"Best Solver for Ridge Regression:\", best_params['solver'])\n",
    "print(\"Best Accuracy on Validation Set for Ridge Regression:\", accuracy_ridge)"
   ]
  },
  {
   "cell_type": "code",
   "execution_count": 184,
   "metadata": {},
   "outputs": [
    {
     "data": {
      "image/png": "[encoded data removed]",
      "text/plain": [
       "<Figure size 720x432 with 1 Axes>"
      ]
     },
     "metadata": {
      "needs_background": "light"
     },
     "output_type": "display_data"
    }
   ],
   "source": [
    "lr_model = LogisticRegression(C = 0.1, solver = 'newton-cg', random_state=42)\n",
    "lr_model.fit(X_train, Y_train)\n",
    "\n",
    "# Get feature names from the original data (assuming X_train is a DataFrame)\n",
    "feature_names = x.columns\n",
    "\n",
    "# Create a DataFrame to store feature names and their absolute coefficients\n",
    "feature_importance_df = pd.DataFrame({'Feature': feature_names, 'Abs_Coefficient': np.abs(lr_model.coef_[0])})\n",
    "\n",
    "# Sort the DataFrame by absolute coefficient values in descending order\n",
    "feature_importance_df = feature_importance_df.sort_values(by='Abs_Coefficient', ascending=False)\n",
    "\n",
    "# Select the top 10 features\n",
    "top_features = feature_importance_df.head(5)\n",
    "\n",
    "# Plot the top 10 feature importances\n",
    "plt.figure(figsize=(10, 6))\n",
    "sns.barplot(x='Abs_Coefficient', y='Feature', data=top_features, palette='viridis')\n",
    "plt.title('Top 5 Absolute Coefficient Values for Logistic Regression Features')\n",
    "plt.xlabel('Absolute Coefficient Value')\n",
    "plt.show()"
   ]
  },
  {
   "cell_type": "code",
   "execution_count": 187,
   "metadata": {},
   "outputs": [
    {
     "data": {
      "image/png": "[encoded data removed]",
      "text/plain": [
       "<Figure size 720x432 with 1 Axes>"
      ]
     },
     "metadata": {
      "needs_background": "light"
     },
     "output_type": "display_data"
    }
   ],
   "source": [
    "# Create a Logistic Regression model\n",
    "lr_model = LogisticRegression()\n",
    "\n",
    "# Fit the model\n",
    "lr_model.fit(X_train, Y_train)\n",
    "\n",
    "# Calculate permutation feature importance\n",
    "perm_importance = permutation_importance(lr_model, X_valid, Y_valid, n_repeats=30, random_state=42)\n",
    "\n",
    "# Create a DataFrame to store feature names and their absolute importances\n",
    "feature_importance_df = pd.DataFrame({\n",
    "    'Feature': x.columns,\n",
    "    'Abs_Importance': np.abs(perm_importance.importances_mean)\n",
    "})\n",
    "\n",
    "# Sort the DataFrame by absolute importance values in descending order\n",
    "feature_importance_df = feature_importance_df.sort_values(by='Abs_Importance', ascending=False)\n",
    "\n",
    "# Select the top 10 features\n",
    "top_features = feature_importance_df.head(5)\n",
    "\n",
    "# Plot the top 10 permutation feature importances\n",
    "plt.figure(figsize=(10, 6))\n",
    "sns.barplot(x='Abs_Importance', y='Feature', data=top_features, palette='viridis')\n",
    "plt.title('Top 10 Absolute Permutation Feature Importance for Logistic Regression Features')\n",
    "plt.xlabel('Absolute Importance')\n",
    "plt.show()"
   ]
  },
  {
   "cell_type": "markdown",
   "metadata": {},
   "source": [
    "Logistic - Ridge"
   ]
  },
  {
   "cell_type": "code",
   "execution_count": 188,
   "metadata": {},
   "outputs": [
    {
     "name": "stdout",
     "output_type": "stream",
     "text": [
      "Best C for Ridge Regression: 0.1\n",
      "Best Solver for Ridge Regression: liblinear\n",
      "Best Accuracy on Validation Set for Ridge Regression: 0.8451861621182916\n",
      "Best F1 Score on Validation Set for Ridge Regression: 0.01421188630490956\n"
     ]
    }
   ],
   "source": [
    "from sklearn.model_selection import GridSearchCV\n",
    "from sklearn.linear_model import LogisticRegression\n",
    "from sklearn.metrics import accuracy_score\n",
    "\n",
    "# Define the hyperparameter grid for C values\n",
    "param_grid = {\n",
    "    'C': [0.1, 0.3, 0.5, 0.7, 1, 3, 5, 7, 10],\n",
    "    'solver': ['liblinear', 'newton-cg', 'lbfgs'],\n",
    "}\n",
    "\n",
    "# Create a Logistic Regression model\n",
    "model = LogisticRegression(penalty='l2', random_state=42)\n",
    "\n",
    "# Create a GridSearchCV object\n",
    "grid_search = GridSearchCV(model, param_grid=param_grid, cv=5, scoring='accuracy')\n",
    "\n",
    "# Fit the GridSearchCV object to your training data\n",
    "grid_search.fit(X_train, Y_train)\n",
    "\n",
    "# Get the best hyperparameters\n",
    "best_params = grid_search.best_params_\n",
    "\n",
    "# Get the best estimator (model)\n",
    "ridge_model = grid_search.best_estimator_\n",
    "\n",
    "# Make predictions on the validation set using the best model\n",
    "y_pred = ridge_model.predict(X_valid)\n",
    "\n",
    "# Compute accuracy on the validation set\n",
    "accuracy_ridge = accuracy_score(Y_valid, y_pred)\n",
    "f1_ridge = f1_score(Y_valid, y_pred)\n",
    "\n",
    "# Print the best hyperparameters and scores\n",
    "print(\"Best C for Ridge Regression:\", best_params['C'])\n",
    "print(\"Best Solver for Ridge Regression:\", best_params['solver'])\n",
    "print(\"Best Accuracy on Validation Set for Ridge Regression:\", accuracy_ridge)\n",
    "print(\"Best F1 Score on Validation Set for Ridge Regression:\", f1_ridge)\n"
   ]
  },
  {
   "cell_type": "code",
   "execution_count": 225,
   "metadata": {},
   "outputs": [
    {
     "data": {
      "image/png": "[encoded data removed]",
      "text/plain": [
       "<Figure size 576x432 with 1 Axes>"
      ]
     },
     "metadata": {},
     "output_type": "display_data"
    }
   ],
   "source": [
    "from sklearn.metrics import confusion_matrix\n",
    "\n",
    "lr_model = LogisticRegression(C = 0.1, solver = 'newton-cg', random_state=42)\n",
    "lr_model.fit(X_train, Y_train)\n",
    "\n",
    "# Make predictions on the test set\n",
    "y_pred = lr_model.predict(X_valid)\n",
    "\n",
    "# Create a confusion matrix\n",
    "cm = confusion_matrix(Y_valid, y_pred)\n",
    "\n",
    "# Display the confusion matrix using a heatmap\n",
    "plt.figure(figsize=(8, 6))\n",
    "sns.heatmap(cm, annot=True, fmt='d', cmap='viridis', cbar=False, \n",
    "            xticklabels=['Predicted 0', 'Predicted 1'],\n",
    "            yticklabels=['Actual 0', 'Actual 1'])\n",
    "plt.title('Confusion Matrix for Random Forest Model')\n",
    "plt.xlabel('Predicted Label')\n",
    "plt.ylabel('Actual Label')\n",
    "plt.show()"
   ]
  },
  {
   "cell_type": "markdown",
   "metadata": {},
   "source": [
    "Logistic - Lasso"
   ]
  },
  {
   "cell_type": "code",
   "execution_count": 189,
   "metadata": {},
   "outputs": [
    {
     "name": "stdout",
     "output_type": "stream",
     "text": [
      "Best C for Logistic Regression: 0.1\n",
      "Best Max Iterations for Logistic Regression: 100\n",
      "Best Accuracy on Validation Set for Logistic Regression: 0.8451861621182916\n",
      "Best F1 Score on Validation Set for Ridge Regression: 0.01421188630490956\n"
     ]
    }
   ],
   "source": [
    "# Define the hyperparameter grid for C values\n",
    "param_grid = {\n",
    "    'C': [0.1, 0.3, 0.5, 0.7, 1, 3, 5, 7, 10],\n",
    "    'max_iter': [100, 200, 300, 400, 500],\n",
    "}\n",
    "\n",
    "# Create a Logistic Regression model\n",
    "lasso_model = LogisticRegression(penalty='l1', solver='liblinear', random_state=42)\n",
    "\n",
    "# Create a GridSearchCV object\n",
    "grid_search = GridSearchCV(model, param_grid=param_grid, cv=5, scoring='accuracy')\n",
    "\n",
    "# Fit the GridSearchCV object to your training data\n",
    "grid_search.fit(X_train, Y_train)\n",
    "\n",
    "# Get the best hyperparameters\n",
    "best_params = grid_search.best_params_\n",
    "\n",
    "# Get the best estimator (model)\n",
    "lasso_model = grid_search.best_estimator_\n",
    "\n",
    "# Make predictions on the validation set using the best model\n",
    "y_pred = lasso_model.predict(X_valid)\n",
    "\n",
    "# Compute accuracy and F1 score on the validation set\n",
    "accuracy_lasso = accuracy_score(Y_valid, y_pred)\n",
    "f1_lasso = f1_score(Y_valid, y_pred)\n",
    "\n",
    "# Print the best hyperparameters and scores\n",
    "print(\"Best C for Logistic Regression:\", best_params['C'])\n",
    "print(\"Best Max Iterations for Logistic Regression:\", best_params['max_iter']) \n",
    "\n",
    "print(\"Best Accuracy on Validation Set for Logistic Regression:\", accuracy_lasso)\n",
    "print(\"Best F1 Score on Validation Set for Ridge Regression:\", f1_lasso)"
   ]
  },
  {
   "cell_type": "markdown",
   "metadata": {},
   "source": [
    "Logistic - Elastic Net"
   ]
  },
  {
   "cell_type": "code",
   "execution_count": 190,
   "metadata": {},
   "outputs": [
    {
     "name": "stdout",
     "output_type": "stream",
     "text": [
      "Best C for Elastic-Net Regression: 0.1\n",
      "Best L1 Ratio for Elastic-Net Regression: 0.1\n",
      "Best Accuracy on Validation Set for Elastic-Net Regression: 0.8451861621182916\n",
      "Best F1 Score on Validation Set for Ridge Regression: 0.01421188630490956\n"
     ]
    }
   ],
   "source": [
    "# Define the hyperparameter grid for C values\n",
    "param_grid = {\n",
    "    'C': [0.1, 0.5, 1.0, 2.0, 5.0, 10.0],\n",
    "    'l1_ratio' : [0.1,0.3,0.5,0.7,0.9] ,\n",
    "}\n",
    "\n",
    "# Create a Logistic Regression model\n",
    "model = LogisticRegression(penalty='elasticnet', solver='saga', random_state=42)\n",
    "\n",
    "# Create a GridSearchCV object\n",
    "grid_search = GridSearchCV(model, param_grid=param_grid, cv=5, scoring='accuracy')\n",
    "\n",
    "# Fit the GridSearchCV object to your training data\n",
    "grid_search.fit(X_train, Y_train)\n",
    "\n",
    "# Get the best hyperparameters\n",
    "best_params = grid_search.best_params_\n",
    "\n",
    "# Get the best estimator (model)\n",
    "elastic_model = grid_search.best_estimator_\n",
    "\n",
    "# Make predictions on the validation set using the best model\n",
    "y_pred = elastic_model.predict(X_valid)\n",
    "\n",
    "# Compute accuracy and F1 score on the validation set\n",
    "accuracy_elastic = accuracy_score(Y_valid, y_pred)\n",
    "\n",
    "# Print the best hyperparameters and scores\n",
    "print(\"Best C for Elastic-Net Regression:\", best_params['C'])\n",
    "print(\"Best L1 Ratio for Elastic-Net Regression:\", best_params['l1_ratio']) \n",
    "\n",
    "print(\"Best Accuracy on Validation Set for Elastic-Net Regression:\", accuracy_elastic)\n",
    "\n",
    "f1_elastic = f1_score(Y_valid, y_pred)\n",
    "print(\"Best F1 Score on Validation Set for Ridge Regression:\", f1_elastic)\n",
    "\n"
   ]
  },
  {
   "cell_type": "markdown",
   "metadata": {},
   "source": [
    "ExtraTrees Model"
   ]
  },
  {
   "cell_type": "code",
   "execution_count": 191,
   "metadata": {},
   "outputs": [
    {
     "name": "stdout",
     "output_type": "stream",
     "text": [
      "Best Parameters: {'max_depth': 10, 'min_samples_leaf': 1, 'min_samples_split': 2, 'n_estimators': 100}\n",
      "Best Accuracy on Validation Set for ExtraTrees Model: 0.8505630516384295\n",
      "Best F1 Score on Validation Set for Ridge Regression: 0.017344896597731824\n"
     ]
    }
   ],
   "source": [
    "param_grid = {\n",
    "    'n_estimators': [50, 100, 150],\n",
    "    'max_depth': [None, 10, 20, 30],\n",
    "    'min_samples_split': [2, 5, 10],\n",
    "    'min_samples_leaf': [1, 2, 4],\n",
    "}\n",
    "# Create a GridSearchCV object\n",
    "grid_search = GridSearchCV(estimator=extratrees_model, param_grid=param_grid, scoring='accuracy', cv=10, n_jobs=-1)\n",
    "\n",
    "# Fit the GridSearchCV object to the data\n",
    "grid_search.fit(X_train, Y_train)\n",
    "\n",
    "# Get the best parameters and the best model\n",
    "best_params = grid_search.best_params_\n",
    "best_model = grid_search.best_estimator_\n",
    "\n",
    "# Evaluate the best model on the validation set\n",
    "y_pred = best_model.predict(X_valid)\n",
    "accuracy_extratrees = accuracy_score(Y_valid, y_pred)\n",
    "\n",
    "# Print the results\n",
    "print(\"Best Parameters:\", best_params)\n",
    "print(\"Best Accuracy on Validation Set for ExtraTrees Model:\", accuracy_extratrees)\n",
    "\n",
    "f1_extra = f1_score(Y_valid, y_pred)\n",
    "print(\"Best F1 Score on Validation Set for Ridge Regression:\", f1_extra)"
   ]
  },
  {
   "cell_type": "markdown",
   "metadata": {},
   "source": [
    "Random Forest Model"
   ]
  },
  {
   "cell_type": "code",
   "execution_count": 218,
   "metadata": {},
   "outputs": [
    {
     "name": "stdout",
     "output_type": "stream",
     "text": [
      "Best Parameters: {'max_depth': None, 'min_samples_leaf': 4, 'min_samples_split': 2, 'n_estimators': 50}\n",
      "Best Accuracy on Validation Set for Random Forest Model: 0.8494470934361368\n",
      "Best F1 Score on Validation Set for Ridge Regression: 0.05115089514066496\n"
     ]
    }
   ],
   "source": [
    "param_grid = {\n",
    "    'n_estimators': [10, 50, 100, 200],\n",
    "    'max_depth': [None, 10, 20, 30],\n",
    "    'min_samples_split': [2, 5, 10],\n",
    "    'min_samples_leaf': [1, 2, 4]}\n",
    "\n",
    "# Create a GridSearchCV object\n",
    "grid_search = GridSearchCV(estimator=randforest_model, param_grid=param_grid, scoring='accuracy', cv=5, n_jobs=-1)\n",
    "\n",
    "# Fit the GridSearchCV object to the data\n",
    "grid_search.fit(X_train, Y_train)\n",
    "\n",
    "# Get the best parameters and the best model\n",
    "best_params = grid_search.best_params_\n",
    "best_model = grid_search.best_estimator_\n",
    "\n",
    "# Evaluate the best model on the test set\n",
    "y_pred = best_model.predict(X_valid)\n",
    "accuracy_randforest = accuracy_score(Y_valid, y_pred)\n",
    "\n",
    "# Print the results\n",
    "print(\"Best Parameters:\", best_params)\n",
    "print(\"Best Accuracy on Validation Set for Random Forest Model:\", accuracy_randforest)\n",
    "\n",
    "f1_random = f1_score(Y_valid, y_pred)\n",
    "print(\"Best F1 Score on Validation Set for Ridge Regression:\", f1_random)"
   ]
  },
  {
   "cell_type": "code",
   "execution_count": 229,
   "metadata": {},
   "outputs": [
    {
     "data": {
      "image/png": "[encoded data removed]",
      "text/plain": [
       "<Figure size 432x144 with 1 Axes>"
      ]
     },
     "metadata": {},
     "output_type": "display_data"
    }
   ],
   "source": [
    "from sklearn.metrics import confusion_matrix\n",
    "\n",
    "randforest_model = RandomForestClassifier(max_depth= 10, min_samples_leaf= 2, min_samples_split=5, n_estimators=100, random_state=42)\n",
    "randforest_model.fit(X_train, Y_train)\n",
    "\n",
    "# Make predictions on the test set\n",
    "y_pred = randforest_model.predict(X_valid)\n",
    "\n",
    "# Create a confusion matrix\n",
    "cm = confusion_matrix(Y_valid, y_pred)\n",
    "\n",
    "# Display the confusion matrix using a heatmap\n",
    "plt.figure(figsize=(6, 2))\n",
    "sns.heatmap(cm, annot=True, fmt='d', cmap='viridis', cbar=False, \n",
    "            xticklabels=['Predicted 0', 'Predicted 1'],\n",
    "            yticklabels=['Actual 0', 'Actual 1'])\n",
    "plt.title('Confusion Matrix for Random Forest Model')\n",
    "plt.xlabel('Predicted Label')\n",
    "plt.ylabel('Actual Label')\n",
    "plt.show()"
   ]
  },
  {
   "cell_type": "code",
   "execution_count": 217,
   "metadata": {},
   "outputs": [
    {
     "data": {
      "image/png": "[encoded data removed]",
      "text/plain": [
       "<Figure size 720x432 with 1 Axes>"
      ]
     },
     "metadata": {},
     "output_type": "display_data"
    }
   ],
   "source": [
    "# Create a Random Forest model\n",
    "randforest_model = RandomForestClassifier(max_depth= 10, min_samples_leaf= 2, min_samples_split=5, n_estimators=100, random_state=42)\n",
    "\n",
    "# Fit the model to your training data\n",
    "randforest_model.fit(X_train, Y_train)\n",
    "\n",
    "# Get feature importances from the trained model\n",
    "feature_importances =randforest_model.feature_importances_\n",
    "\n",
    "# Create a DataFrame to store feature names and their importances\n",
    "feature_importance_df = pd.DataFrame({\n",
    "    'Feature': x.columns,\n",
    "    'Importance': feature_importances\n",
    "})\n",
    "\n",
    "# Sort the DataFrame by importance in descending order\n",
    "feature_importance_df = feature_importance_df.sort_values(by='Importance', ascending=False)\n",
    "\n",
    "# Use Seaborn for plotting\n",
    "plt.figure(figsize=(10, 6))\n",
    "sns.barplot(x='Importance', y='Feature', data=feature_importance_df.head(5), palette='viridis')\n",
    "plt.title('Top 5 Absolute Coefficient Values for Random Forest Features')\n",
    "plt.xlabel(' ')\n",
    "plt.ylabel(' ')\n",
    "plt.show()"
   ]
  },
  {
   "cell_type": "markdown",
   "metadata": {},
   "source": [
    "GradBoost Model"
   ]
  },
  {
   "cell_type": "code",
   "execution_count": 215,
   "metadata": {},
   "outputs": [
    {
     "name": "stdout",
     "output_type": "stream",
     "text": [
      "Best Parameters for Gradient Boosting: {'learning_rate': 0.2, 'max_depth': 3, 'n_estimators': 50}\n",
      "Best Accuracy on Validation Set for Gradient Boosting Model: 0.8511717561124075\n",
      "Best F1 Score on Validation Set for Gradient Boosting Model: 0.04429967426710098\n"
     ]
    }
   ],
   "source": [
    "# Create a GradientBoostingClassifier\n",
    "gradboost_model = GradientBoostingClassifier(random_state=42)\n",
    "\n",
    "param_grid = {\n",
    "    'n_estimators': [10, 50, 100, 200],\n",
    "    'learning_rate': [0.01, 0.1, 0.2],\n",
    "    'max_depth': [3, 4, 5],\n",
    "}\n",
    "\n",
    "# Create a GridSearchCV object for Gradient Boosting\n",
    "grid_search_gradboost = GridSearchCV(estimator=gradboost_model, param_grid=param_grid, scoring='accuracy', cv=5, n_jobs=-1)\n",
    "\n",
    "# Fit the GridSearchCV object to the data\n",
    "grid_search_gradboost.fit(X_train, Y_train)\n",
    "\n",
    "# Get the best parameters and the best model for Gradient Boosting\n",
    "best_params_gradboost = grid_search_gradboost.best_params_\n",
    "best_model_gradboost = grid_search_gradboost.best_estimator_\n",
    "\n",
    "# Evaluate the best model on the validation set\n",
    "y_pred_gradboost = best_model_gradboost.predict(X_valid)\n",
    "accuracy_gradboost = accuracy_score(Y_valid, y_pred_gradboost)\n",
    "\n",
    "# Print the results for Gradient Boosting\n",
    "print(\"Best Parameters for Gradient Boosting:\", best_params_gradboost)\n",
    "print(\"Best Accuracy on Validation Set for Gradient Boosting Model:\", accuracy_gradboost)\n",
    "\n",
    "f1_gradboost = f1_score(Y_valid, y_pred_gradboost)\n",
    "print(\"Best F1 Score on Validation Set for Gradient Boosting Model:\", f1_gradboost)\n"
   ]
  }
 ],
 "metadata": {
  "kernelspec": {
   "display_name": "Python 3",
   "language": "python",
   "name": "python3"
  },
  "language_info": {
   "codemirror_mode": {
    "name": "ipython",
    "version": 3
   },
   "file_extension": ".py",
   "mimetype": "text/x-python",
   "name": "python",
   "nbconvert_exporter": "python",
   "pygments_lexer": "ipython3",
   "version": "3.8.8"
  },
  "orig_nbformat": 4
 },
 "nbformat": 4,
 "nbformat_minor": 2
}
